{
 "cells": [
  {
   "cell_type": "code",
   "execution_count": 782,
   "metadata": {
    "id": "fTu-AzT-YxBt"
   },
   "outputs": [],
   "source": [
    "from sklearn.datasets import make_circles\n",
    "import torch\n",
    "import numpy as np\n",
    "from matplotlib import pyplot as plt"
   ]
  },
  {
   "cell_type": "code",
   "execution_count": 783,
   "metadata": {
    "id": "N4Dk2-OAhfz2"
   },
   "outputs": [],
   "source": [
    "from torchvision import datasets, transforms\n",
    "from torch import nn"
   ]
  },
  {
   "cell_type": "code",
   "execution_count": 829,
   "metadata": {
    "id": "5u38Ef0cZSTq"
   },
   "outputs": [],
   "source": [
    "data = make_circles (5000)"
   ]
  },
  {
   "cell_type": "code",
   "execution_count": 785,
   "metadata": {
    "colab": {
     "base_uri": "https://localhost:8080/"
    },
    "id": "BpjO6JO3aeax",
    "outputId": "fe195ae0-2492-41e0-decb-ffb8f674a364"
   },
   "outputs": [
    {
     "name": "stdout",
     "output_type": "stream",
     "text": [
      "(5000, 2) (5000,)\n"
     ]
    }
   ],
   "source": [
    "print(np.shape(data[0]), np.shape(data[1]))"
   ]
  },
  {
   "cell_type": "code",
   "execution_count": 830,
   "metadata": {
    "id": "AKz4EsYndF86"
   },
   "outputs": [],
   "source": [
    "data0 = torch.from_numpy(data[0])\n",
    "labels = torch.from_numpy(data[1])"
   ]
  },
  {
   "cell_type": "code",
   "execution_count": 831,
   "metadata": {
    "id": "atq2qXZRde-K"
   },
   "outputs": [],
   "source": [
    "dataset = torch.utils.data.TensorDataset(data0, labels)"
   ]
  },
  {
   "cell_type": "code",
   "execution_count": 832,
   "metadata": {
    "colab": {
     "base_uri": "https://localhost:8080/"
    },
    "id": "9qBSuBlBeGAB",
    "outputId": "ccd20265-4500-425f-e7d7-22e4565fbe41"
   },
   "outputs": [
    {
     "data": {
      "text/plain": [
       "torch.utils.data.dataset.TensorDataset"
      ]
     },
     "execution_count": 832,
     "metadata": {},
     "output_type": "execute_result"
    }
   ],
   "source": [
    "type(dataset)"
   ]
  },
  {
   "cell_type": "code",
   "execution_count": 833,
   "metadata": {
    "colab": {
     "base_uri": "https://localhost:8080/"
    },
    "id": "c32Fomnx1vIn",
    "outputId": "cb7c00f1-d124-4e2b-aeba-9878a469eddd"
   },
   "outputs": [
    {
     "data": {
      "text/plain": [
       "5000"
      ]
     },
     "execution_count": 833,
     "metadata": {},
     "output_type": "execute_result"
    }
   ],
   "source": [
    "len(dataset)"
   ]
  },
  {
   "cell_type": "code",
   "execution_count": 834,
   "metadata": {
    "id": "Zji4vCAgivOy"
   },
   "outputs": [],
   "source": [
    "training_data= [dataset[i] for i in range(4000)]\n",
    "test_data = [dataset[i] for i in range(4000, 5000)]"
   ]
  },
  {
   "cell_type": "code",
   "execution_count": 835,
   "metadata": {
    "colab": {
     "base_uri": "https://localhost:8080/"
    },
    "id": "hAjtZM_21yk9",
    "outputId": "fa08518a-feae-44d8-a406-b25a917b27ce"
   },
   "outputs": [
    {
     "data": {
      "text/plain": [
       "4000"
      ]
     },
     "execution_count": 835,
     "metadata": {},
     "output_type": "execute_result"
    }
   ],
   "source": [
    "len(training_data)"
   ]
  },
  {
   "cell_type": "code",
   "execution_count": 836,
   "metadata": {
    "colab": {
     "base_uri": "https://localhost:8080/"
    },
    "id": "XDRr7KCo20r_",
    "outputId": "1ba0041e-fbf6-4ab4-8374-3d3b7ec1b818"
   },
   "outputs": [
    {
     "data": {
      "text/plain": [
       "(tensor([0.7937, 0.1003], dtype=torch.float64), tensor(1))"
      ]
     },
     "execution_count": 836,
     "metadata": {},
     "output_type": "execute_result"
    }
   ],
   "source": [
    "dataset[100]"
   ]
  },
  {
   "cell_type": "code",
   "execution_count": 837,
   "metadata": {
    "colab": {
     "base_uri": "https://localhost:8080/"
    },
    "id": "77nobf0Zjw2w",
    "outputId": "b44ffa1f-384c-407e-f083-1c79af89062c"
   },
   "outputs": [
    {
     "data": {
      "text/plain": [
       "2"
      ]
     },
     "execution_count": 837,
     "metadata": {},
     "output_type": "execute_result"
    }
   ],
   "source": [
    "len(data0[0])"
   ]
  },
  {
   "cell_type": "code",
   "execution_count": 794,
   "metadata": {
    "colab": {
     "base_uri": "https://localhost:8080/"
    },
    "id": "0GP87RNymC5i",
    "outputId": "916c3b14-511d-455d-9f80-6be0bfa2b438"
   },
   "outputs": [
    {
     "data": {
      "text/plain": [
       "5000"
      ]
     },
     "execution_count": 794,
     "metadata": {},
     "output_type": "execute_result"
    }
   ],
   "source": [
    "len(data0[:,0])"
   ]
  },
  {
   "cell_type": "code",
   "execution_count": 795,
   "metadata": {
    "colab": {
     "base_uri": "https://localhost:8080/",
     "height": 282
    },
    "id": "Yl1NWU4rl0kx",
    "outputId": "61bb473a-76b8-434d-cbea-52a08d17daa6"
   },
   "outputs": [
    {
     "data": {
      "text/plain": [
       "<matplotlib.collections.PathCollection at 0x7f964159b0d0>"
      ]
     },
     "execution_count": 795,
     "metadata": {},
     "output_type": "execute_result"
    },
    {
     "data": {
      "image/png": "[encoded data removed]",
      "text/plain": [
       "<Figure size 432x288 with 1 Axes>"
      ]
     },
     "metadata": {
      "needs_background": "light"
     },
     "output_type": "display_data"
    }
   ],
   "source": [
    "plt.scatter(data0[:,0], data0[:,1])"
   ]
  },
  {
   "cell_type": "code",
   "execution_count": 796,
   "metadata": {
    "id": "u1a3vdMGkGCA"
   },
   "outputs": [],
   "source": [
    "def sigmoid(x):\n",
    "  return 1/(1+np.exp(-x))\n",
    "\n",
    "def d_sigmoid(x):\n",
    "  return sigmoid(x)*(1-sigmoid(x))"
   ]
  },
  {
   "cell_type": "code",
   "execution_count": 936,
   "metadata": {
    "id": "w8FC80E0lALB"
   },
   "outputs": [],
   "source": [
    "def identity(x):\n",
    "  return x\n",
    "\n",
    "def d_identity(x):\n",
    "  return torch.ones(x.size())"
   ]
  },
  {
   "cell_type": "code",
   "execution_count": 937,
   "metadata": {
    "id": "XKi0OJ4glWNo"
   },
   "outputs": [],
   "source": [
    "class Neural_Network(nn.Module):\n",
    "    def __init__(self, lr=1.0, activation = sigmoid, d_activation = d_sigmoid):\n",
    "        super(Neural_Network, self).__init__()\n",
    "        self.inputSize = 2\n",
    "        self.hiddenSize = 10\n",
    "        self.outputSize = 1\n",
    "        self.lr = lr\n",
    "\n",
    "        # weights\n",
    "        self.W1 = torch.randn(self.inputSize, self.hiddenSize).float()\n",
    "        self.W2 = torch.randn(self.hiddenSize, self.outputSize).float()\n",
    "        self.b1 = torch.randn(1, self.hiddenSize).float()\n",
    "        self.b2 = torch.randn(1, self.outputSize).float()\n",
    "        self.activation = activation\n",
    "        self.d_activation = d_activation\n",
    "\n",
    "\n",
    "    def forward(self, X):\n",
    "        self.z1 = torch.matmul(X.float(), self.W1)+self.b1\n",
    "        self.a1 = self.activation(self.z1)\n",
    "        self.z2 = torch.matmul(self.a1, self.W2) +self.b2\n",
    "        self.a2 = self.activation(self.z2)\n",
    "        return self.a2\n",
    "\n",
    "    def backpropagate(self,X, a2, y_target):\n",
    "        # commencer par:\n",
    "        #print(self.a1.size())\n",
    "        y_target = y_target.unsqueeze(1)\n",
    "        #print(\"ytarget = \", y_target.size())    \n",
    "        #print(type(y_target))\n",
    "        #print(\"a2 = \", a2.size())\n",
    "        #print(\"z2 =\", self.z2.size())\n",
    "        dE_da2 = (a2 - y_target) #\n",
    "        #print(\"dE_da2=\", dE_da2.size())\n",
    "        dE_dz2 = dE_da2 * self.d_activation(self.z2) #\n",
    "        #print(\"dE_dz2=\", dE_dz2.size())\n",
    "        dE_db2 = torch.sum(dE_dz2) #\n",
    "        dE_da1 = dE_dz2 @ self.W2.T # C'est un vecteur\n",
    "        #print(\"dE_da1= \", dE_da1.size())\n",
    "        dE_dW2 = dE_dz2.T @ self.a1 \n",
    "        #print(\"dE_dW2 = \", dE_dW2.size())\n",
    "        #d_act_vector1 = [d_activation (self.z1) for i in range(len(self.z1))]\n",
    "        #dE_dz1 = dE_da1* d_act_vector1\n",
    "        dE_dz1 = dE_da1* self.d_activation(self.z1)\n",
    "        #print(\"dE_dz1=\", dE_dz1.size())\n",
    "        dE_db1 = torch.sum(dE_dz1)\n",
    "        dE_dW1 = (dE_dz1.T @ X).T\n",
    "        #print(\"dE_dW1\", dE_dW1.size())\n",
    "        #print(\"dE_dW2\", dE_dW2.size())\n",
    "        #print(\"dE_dz1= \", dE_dz1.size())\n",
    "        #print(\"a2 = \" , a2.size())\n",
    "        lr = self.lr\n",
    "        self.W2 -= lr*dE_dW2.T\n",
    "        #print(\"W2 = \",self.W2.size())\n",
    "        #print(\"W1 = \", self.W1.size())\n",
    "        self.W1 -= lr*dE_dW1\n",
    "        self.b1 -= lr*dE_db1\n",
    "        #print(\"b1 = \", self.b1.size())\n",
    "        self.b2 -= lr*dE_db2\n",
    "        #print(\"b2 = \", self.b2.size())"
   ]
  },
  {
   "cell_type": "code",
   "execution_count": 1072,
   "metadata": {},
   "outputs": [],
   "source": [
    "class Neural_Network(nn.Module):\n",
    "    def __init__(self, lr=1.0, activation = sigmoid, d_activation = d_sigmoid):\n",
    "        super(Neural_Network, self).__init__()\n",
    "        self.inputSize = 2\n",
    "        self.hiddenSize = 10\n",
    "        self.outputSize = 1\n",
    "        self.lr = lr\n",
    "\n",
    "        # weights\n",
    "        self.W1 = torch.randn(self.inputSize, self.hiddenSize).float()\n",
    "        self.W2 = torch.randn(self.hiddenSize, self.outputSize).float()\n",
    "        self.b1 = torch.randn(1, self.hiddenSize).float()\n",
    "        self.b2 = torch.randn(1, self.outputSize).float()\n",
    "        self.activation = activation\n",
    "        self.d_activation = d_activation\n",
    "\n",
    "    def forward(self, X):\n",
    "        self.z1 = torch.matmul(X.float(), self.W1)+self.b1\n",
    "        #print(self.z1)\n",
    "        self.a1 = self.activation(self.z1)\n",
    "        self.z2 = torch.matmul(self.a1, self.W2) +self.b2\n",
    "        self.a2 = self.activation(self.z2)\n",
    "        return self.a2\n",
    "\n",
    "    def backpropagate(self,X, a2, y_target):\n",
    "        # commencer par:\n",
    "        #print(self.a1.size())\n",
    "        y_target = y_target.unsqueeze(1)\n",
    "        dE_da2 = (a2 - y_target) #\n",
    "        #print('a')\n",
    "        #print(\"z2\", self.z2.size())\n",
    "        dE_dz2 = dE_da2 * self.d_activation(self.z2) #\n",
    "        dE_db2 = torch.sum(dE_dz2) #\n",
    "        dE_da1 = dE_dz2 @ self.W2.T \n",
    "        #print(\"dE/dz2\", dE_dz2.size())\n",
    "        #print(\"W2\", self.W2.size())\n",
    "        dE_dW2 = dE_dz2.T @ self.a1 \n",
    "        dE_dz1 = dE_da1* self.d_activation(self.z1)\n",
    "        dE_db1 = torch.sum(dE_dz1)\n",
    "        dE_dW1 = (dE_dz1.T @ X).T\n",
    "        lr = self.lr\n",
    "        self.W2 -= lr*dE_dW2.T\n",
    "        self.W1 -= lr*dE_dW1\n",
    "        self.b1 -= lr*dE_db1\n",
    "        self.b2 -= lr*dE_db2"
   ]
  },
  {
   "cell_type": "code",
   "execution_count": 1074,
   "metadata": {
    "id": "VFzHRISLxFBO"
   },
   "outputs": [],
   "source": [
    "net = Neural_Network()\n"
   ]
  },
  {
   "cell_type": "code",
   "execution_count": 801,
   "metadata": {
    "id": "ndfbmINbzCUF"
   },
   "outputs": [],
   "source": [
    "from tqdm.notebook import tqdm\n",
    "from time import sleep\n",
    "from tqdm import trange, tnrange"
   ]
  },
  {
   "cell_type": "code",
   "execution_count": 1079,
   "metadata": {
    "id": "NBlfqZ26ygk-"
   },
   "outputs": [],
   "source": [
    "def train(dataset, model,batch_size = 3, epoch = 10):\n",
    "    for i in tqdm(range(epoch)):\n",
    "        dataload = torch.utils.data.DataLoader(dataset, batch_size = batch_size)\n",
    "        for X, y in dataload:\n",
    "            X = X.float()\n",
    "            y = y.float()\n",
    "            yv_pred = model.forward(X).float()\n",
    "            #print(\"b\")\n",
    "            #print(model.z2.size())\n",
    "            #print(\"yv_pred = \", yv_pred.size())\n",
    "            model.backpropagate(X, yv_pred, y)   \n",
    "            #loss = nn.MSELoss(y, yv_pred)\n",
    "            #model.zero_grad()\n",
    "            #loss.backward()\n",
    "            \n",
    "        \n",
    "        \n",
    "            \n",
    "        \n",
    "\n",
    "\n",
    "\n"
   ]
  },
  {
   "cell_type": "code",
   "execution_count": 1075,
   "metadata": {
    "colab": {
     "base_uri": "https://localhost:8080/",
     "height": 390,
     "referenced_widgets": [
      "6d8043e6bba14b6ba3be0bcad0986f31",
      "42af77ca7fac4415b539837ca0544a14",
      "911d2cccd8f64a35b4aa8c710d773e3f",
      "fe5c3488a6d94e9e88a4ae917e1b8d63",
      "480ffcd48d8d42eba477543b31cc826c",
      "fa8df00662ef45f890255ab1d83b578e",
      "b2e9220208c24a3ea7f76103759d74f0",
      "ba6afe544db64c19bcc96b4eb06d46a1"
     ]
    },
    "id": "KGQcDYJXzv9m",
    "outputId": "3d14fc93-f32c-4e42-abdb-a53705a96f4d"
   },
   "outputs": [
    {
     "data": {
      "application/vnd.jupyter.widget-view+json": {
       "model_id": "f63406bca4d14e2f9dd630ae25e99641",
       "version_major": 2,
       "version_minor": 0
      },
      "text/plain": [
       "  0%|          | 0/20 [00:00<?, ?it/s]"
      ]
     },
     "metadata": {},
     "output_type": "display_data"
    }
   ],
   "source": [
    "train(training_data, net, epoch = 20, batch_size = 16)"
   ]
  },
  {
   "cell_type": "code",
   "execution_count": 1063,
   "metadata": {},
   "outputs": [
    {
     "name": "stdout",
     "output_type": "stream",
     "text": [
      "torch.Size([1, 2])\n",
      "b2 torch.Size([1, 1])\n",
      "z2 torch.Size([1, 1])\n",
      "W2 torch.Size([10, 1])\n",
      "a1 torch.Size([1, 10])\n",
      "tensor([[0.5061]])\n"
     ]
    }
   ],
   "source": [
    "dataload = torch.utils.data.DataLoader(training_data, batch_size = 1)\n",
    "for x,y in dataload:\n",
    "    print(x.size())\n",
    "    y_p = net.forward((x.float()))\n",
    "    print(\"b2\", net.b2.size())\n",
    "    print(\"z2\", net.z2.size())\n",
    "    print(\"W2\", net.W2.size())\n",
    "    print(\"a1\", net.a1.size())\n",
    "    print(y_p)\n",
    "    #print(net_bn.bn1.track_running_stats)\n",
    "    break\n",
    "            "
   ]
  },
  {
   "cell_type": "code",
   "execution_count": 877,
   "metadata": {},
   "outputs": [],
   "source": [
    "def success_rate(model,test_data):\n",
    "    S = 0\n",
    "    n = len(test_data)\n",
    "\n",
    "    #k = len(model(test_data[1][0]))\n",
    "    \"\"\"for i in range(n):\n",
    "        prediction = model(test_data[i])\n",
    "        print(len(prediction))\n",
    "        if np.abs((float(prediction- test_data[i][1]))) < 0.5:\n",
    "            S += 1\"\"\"\n",
    "    dl = torch.utils.data.DataLoader(test_data, batch_size = 1)\n",
    "    for x,y in dl:\n",
    "        #print(model.W2.size())\n",
    "        prediction = model.forward(x)\n",
    "        #print(prediction.size())\n",
    "        '''if torch.abs((prediction- y)) < 0.5:\n",
    "            S += 1'''\n",
    "        if torch.abs(prediction - y) < torch.abs(prediction - (1-y)):\n",
    "            S+= 1\n",
    "        \n",
    "    return S/n\n",
    "                        "
   ]
  },
  {
   "cell_type": "code",
   "execution_count": 1076,
   "metadata": {},
   "outputs": [
    {
     "data": {
      "text/plain": [
       "0.507"
      ]
     },
     "execution_count": 1076,
     "metadata": {},
     "output_type": "execute_result"
    }
   ],
   "source": [
    "success_rate(net, test_data)"
   ]
  },
  {
   "cell_type": "code",
   "execution_count": 1080,
   "metadata": {},
   "outputs": [],
   "source": [
    "net_lin = Neural_Network(activation = identity, d_activation = d_identity, lr= 0.1)"
   ]
  },
  {
   "cell_type": "code",
   "execution_count": 1056,
   "metadata": {},
   "outputs": [
    {
     "name": "stdout",
     "output_type": "stream",
     "text": [
      "torch.Size([1, 2])\n",
      "y tensor([0])\n",
      "prediction tensor([[nan]])\n",
      "b1 tensor([[nan, nan, nan, nan, nan, nan, nan, nan, nan, nan]])\n",
      "b2 torch.Size([1, 1])\n",
      "z2 torch.Size([1, 1])\n",
      "W2 torch.Size([10, 1])\n",
      "a1 torch.Size([1, 10])\n",
      "torch.Size([1, 1])\n"
     ]
    }
   ],
   "source": [
    "dataload = torch.utils.data.DataLoader(training_data, batch_size = 1)\n",
    "for x,y in dataload:\n",
    "    print(x.size())\n",
    "    print(\"y\", y)\n",
    "    y_p = net_lin.forward((x.float()))\n",
    "    print(\"prediction\", y_p)\n",
    "    print(\"b1\", net_lin.b1)\n",
    "    print(\"b2\", net_lin.b2.size())\n",
    "    print(\"z2\", net_lin.z2.size())\n",
    "    print(\"W2\", net_lin.W2.size())\n",
    "    print(\"a1\", net_lin.a1.size())\n",
    "    print(net_lin.z2.size())\n",
    "    #print(y_p)\n",
    "    #print(net_bn.bn1.track_running_stats)\n",
    "    break"
   ]
  },
  {
   "cell_type": "code",
   "execution_count": 1082,
   "metadata": {},
   "outputs": [
    {
     "data": {
      "application/vnd.jupyter.widget-view+json": {
       "model_id": "8991942cc54f47318532200fd94e21e6",
       "version_major": 2,
       "version_minor": 0
      },
      "text/plain": [
       "  0%|          | 0/20 [00:00<?, ?it/s]"
      ]
     },
     "metadata": {},
     "output_type": "display_data"
    }
   ],
   "source": [
    "train(training_data, net_lin, epoch = 20, batch_size = 16)"
   ]
  },
  {
   "cell_type": "code",
   "execution_count": null,
   "metadata": {},
   "outputs": [],
   "source": [
    "def success_rate(model,test_data):\n",
    "    S = 0\n",
    "    n = len(test_data)\n",
    "\n",
    "            S += 1\n",
    "    dl = torch.utils.data.DataLoader(test_data, batch_size = 1)\n",
    "    for x,y in dl:\n",
    "        #print(model.W2.size())\n",
    "        prediction = model.forward(x)\n",
    "        #print(prediction.size())\n",
    "        '''if torch.abs((prediction- y)) < 0.5:\n",
    "            S += 1'''\n",
    "        if torch.abs(prediction - y) < torch.abs(prediction - (1-y)):\n",
    "            S+= 1\n",
    "        \n",
    "    return S/n"
   ]
  },
  {
   "cell_type": "code",
   "execution_count": 1083,
   "metadata": {},
   "outputs": [
    {
     "data": {
      "text/plain": [
       "0.0"
      ]
     },
     "execution_count": 1083,
     "metadata": {},
     "output_type": "execute_result"
    }
   ],
   "source": [
    "success_rate(net_lin, training_data)"
   ]
  },
  {
   "cell_type": "markdown",
   "metadata": {
    "id": "AOjyGIXh56PB"
   },
   "source": [
    "# Partie 2 : Initialisation"
   ]
  },
  {
   "cell_type": "code",
   "execution_count": 1084,
   "metadata": {
    "id": "TKQoM0zR2PnU"
   },
   "outputs": [],
   "source": [
    "tr =  transforms.Compose([transforms.ToTensor(),transforms.Lambda(lambda x: torch.flatten(x))])\n",
    "training_data_FM = datasets.FashionMNIST(\".\",download=True,train=True, transform = tr)\n",
    "test_data_FM = datasets.FashionMNIST(\".\",download=True,train=False, transform = tr)"
   ]
  },
  {
   "cell_type": "code",
   "execution_count": 1085,
   "metadata": {
    "id": "qZ3Pb53H6DJF"
   },
   "outputs": [],
   "source": [
    "import torch.nn.functional as F \n",
    "\n",
    "class MyNetwork(nn.Module): # a class inheriting from nn.Module\n",
    "\n",
    "    def __init__(self): \n",
    "        super(MyNetwork, self).__init__() # call the constructor of nn.Module\n",
    "        # you can now define some layers\n",
    "        self.layer1 = nn.Linear(784, 128)\n",
    "        #self.act1 = nn.reLu()\n",
    "        self.act1 = nn.ReLU()\n",
    "        self.layer2 = nn.Linear(128, 64)\n",
    "        self.act2 = self.act1\n",
    "        self.layer3 = nn.Linear(64, 10)\n",
    "        self.act3 = nn.LogSoftmax(dim=-1)\n",
    "    def forward(self,x): \n",
    "        # how do the layers compute the output ?\n",
    "        # this function needs to return the output of the net\n",
    "        # usually by applying the layers in the right order\n",
    "        ...\n",
    "        #x = x.to(device)\n",
    "        #result = F.relu(self.layer1(x))\n",
    "        result = self.act1(self.layer1(x))\n",
    "        result = self.act2((self.layer2(result)))\n",
    "        result = self.act3(self.layer3(result))\n",
    "        return result\n",
    "    \n",
    "\n",
    "    \n",
    "\n",
    "network = MyNetwork()\n",
    "\n",
    "#network.apply(init_weights)\n",
    "\n"
   ]
  },
  {
   "cell_type": "code",
   "execution_count": 1086,
   "metadata": {},
   "outputs": [],
   "source": [
    "loss_fn = torch.nn.NLLLoss()\n",
    "\"\"\"def train2(dataset, model,batch_size = 3, epoch = 10, lr= 0.01):\n",
    "    #model.apply(init_weights)\n",
    "    optimizer = torch.optim.Adam(model.parameters(), lr= lr)\n",
    "    for i in range(epoch):\n",
    "        dataload = torch.utils.data.DataLoader(dataset, batch_size = batch_size)\n",
    "        for X, y in tqdm(dataload):\n",
    "            X = X.float()\n",
    "            y = y.float()\n",
    "            yv_pred = net.forward(X).float()\n",
    "            #print(\"yv_pred = \", yv_pred.size())\n",
    "            loss = loss_fn(yv_pred.float(), y.float())\n",
    "            optimizer.zero_grad()\n",
    "            loss.backward()\n",
    "            optimizer.step()\"\"\"\n",
    "            \n",
    "            \n",
    "def trainer2(dataset,model,loss_fn,epoch=10,batch_size=1,rate=1e-4):\n",
    "    optimizer = torch.optim.Adam(model.parameters(), lr= rate)\n",
    "    for i in range(epoch):\n",
    "        dataload = torch.utils.data.DataLoader(dataset, batch_size = batch_size)\n",
    "        #for batch, (x,y) in enumerate(dataload):\n",
    "        for (x,y) in tqdm(dataload):\n",
    "            # Compute prediction error\n",
    "            y_pred = model(x)\n",
    "            loss = loss_fn(y_pred.float(), y)\n",
    "            # Backpropagation\n",
    "            optimizer.zero_grad()\n",
    "            loss.backward()\n",
    "            optimizer.step()\n",
    "    return model\n",
    "           "
   ]
  },
  {
   "cell_type": "code",
   "execution_count": 105,
   "metadata": {},
   "outputs": [],
   "source": [
    "dtload = torch.utils.data.DataLoader(training_data_FM, batch_size = 5)"
   ]
  },
  {
   "cell_type": "code",
   "execution_count": 106,
   "metadata": {},
   "outputs": [],
   "source": [
    "Z = 0\n",
    "T = 0\n",
    "for x,y in dtload:\n",
    "    Z = x\n",
    "    T = y\n",
    "    break\n",
    "logi = network(x)\n",
    "    "
   ]
  },
  {
   "cell_type": "code",
   "execution_count": 108,
   "metadata": {},
   "outputs": [
    {
     "name": "stdout",
     "output_type": "stream",
     "text": [
      "tensor(False) 5\n"
     ]
    }
   ],
   "source": [
    "print(loss_fn(logi, T)<0,5)"
   ]
  },
  {
   "cell_type": "code",
   "execution_count": 757,
   "metadata": {},
   "outputs": [],
   "source": [
    "#plot_loss_accuracy(training_data_FM, test_data_FM, network, epoch = 3, batch_size = 16)"
   ]
  },
  {
   "cell_type": "code",
   "execution_count": 1087,
   "metadata": {},
   "outputs": [
    {
     "data": {
      "application/vnd.jupyter.widget-view+json": {
       "model_id": "b58e1c5bffaa465d993f537adc3f2ed0",
       "version_major": 2,
       "version_minor": 0
      },
      "text/plain": [
       "  0%|          | 0/3750 [00:00<?, ?it/s]"
      ]
     },
     "metadata": {},
     "output_type": "display_data"
    },
    {
     "data": {
      "application/vnd.jupyter.widget-view+json": {
       "model_id": "05a35d2406cc4cf5be0b3d6de529152b",
       "version_major": 2,
       "version_minor": 0
      },
      "text/plain": [
       "  0%|          | 0/3750 [00:00<?, ?it/s]"
      ]
     },
     "metadata": {},
     "output_type": "display_data"
    },
    {
     "data": {
      "application/vnd.jupyter.widget-view+json": {
       "model_id": "cdda4fa4ebc3431cb81a9a2817f7ba23",
       "version_major": 2,
       "version_minor": 0
      },
      "text/plain": [
       "  0%|          | 0/3750 [00:00<?, ?it/s]"
      ]
     },
     "metadata": {},
     "output_type": "display_data"
    },
    {
     "data": {
      "text/plain": [
       "MyNetwork(\n",
       "  (layer1): Linear(in_features=784, out_features=128, bias=True)\n",
       "  (act1): ReLU()\n",
       "  (layer2): Linear(in_features=128, out_features=64, bias=True)\n",
       "  (act2): ReLU()\n",
       "  (layer3): Linear(in_features=64, out_features=10, bias=True)\n",
       "  (act3): LogSoftmax(dim=-1)\n",
       ")"
      ]
     },
     "execution_count": 1087,
     "metadata": {},
     "output_type": "execute_result"
    }
   ],
   "source": [
    "trainer2(training_data_FM, network,loss_fn, batch_size = 16, epoch =3 )"
   ]
  },
  {
   "cell_type": "code",
   "execution_count": 1088,
   "metadata": {},
   "outputs": [
    {
     "name": "stdout",
     "output_type": "stream",
     "text": [
      "0.8449\n"
     ]
    }
   ],
   "source": [
    "def success_rate2(model,test_data):\n",
    "    S = 0\n",
    "    n = len(test_data)\n",
    "    #k = len(model(test_data[1][0]))\n",
    "    for i in range(n):\n",
    "        prediction_vector = model(test_data[i][0])\n",
    "        prediction = np.argmax(list(prediction_vector))\n",
    "        if np.abs((float(prediction- test_data[i][1])))<0.5:\n",
    "            S += 1\n",
    "    return S/n\n",
    "print(success_rate2(network, test_data_FM))"
   ]
  },
  {
   "cell_type": "code",
   "execution_count": 1102,
   "metadata": {},
   "outputs": [],
   "source": [
    "network_null = MyNetwork()"
   ]
  },
  {
   "cell_type": "code",
   "execution_count": 1099,
   "metadata": {},
   "outputs": [],
   "source": [
    "def null(W):\n",
    "    Z = torch.from_numpy(np.zeros((len(W), len(W[0]))))\n",
    "    return Z\n",
    "    \n",
    "def init_weights(m):\n",
    "    if type(m) == nn.Linear:\n",
    "        null(m.weight)"
   ]
  },
  {
   "cell_type": "code",
   "execution_count": 1103,
   "metadata": {},
   "outputs": [
    {
     "data": {
      "text/plain": [
       "MyNetwork(\n",
       "  (layer1): Linear(in_features=784, out_features=128, bias=True)\n",
       "  (act1): ReLU()\n",
       "  (layer2): Linear(in_features=128, out_features=64, bias=True)\n",
       "  (act2): ReLU()\n",
       "  (layer3): Linear(in_features=64, out_features=10, bias=True)\n",
       "  (act3): LogSoftmax(dim=-1)\n",
       ")"
      ]
     },
     "execution_count": 1103,
     "metadata": {},
     "output_type": "execute_result"
    }
   ],
   "source": [
    "network_null.apply(init_weights)"
   ]
  },
  {
   "cell_type": "code",
   "execution_count": 1105,
   "metadata": {},
   "outputs": [
    {
     "data": {
      "application/vnd.jupyter.widget-view+json": {
       "model_id": "87ff90ffd85147bb8984c123b90533cd",
       "version_major": 2,
       "version_minor": 0
      },
      "text/plain": [
       "  0%|          | 0/3750 [00:00<?, ?it/s]"
      ]
     },
     "metadata": {},
     "output_type": "display_data"
    },
    {
     "data": {
      "application/vnd.jupyter.widget-view+json": {
       "model_id": "82774cde9da64eaa80b577053e2b7aee",
       "version_major": 2,
       "version_minor": 0
      },
      "text/plain": [
       "  0%|          | 0/3750 [00:00<?, ?it/s]"
      ]
     },
     "metadata": {},
     "output_type": "display_data"
    },
    {
     "data": {
      "application/vnd.jupyter.widget-view+json": {
       "model_id": "4ab343c482514eb9bbfda4c346d8b312",
       "version_major": 2,
       "version_minor": 0
      },
      "text/plain": [
       "  0%|          | 0/3750 [00:00<?, ?it/s]"
      ]
     },
     "metadata": {},
     "output_type": "display_data"
    },
    {
     "data": {
      "text/plain": [
       "MyNetwork(\n",
       "  (layer1): Linear(in_features=784, out_features=128, bias=True)\n",
       "  (act1): ReLU()\n",
       "  (layer2): Linear(in_features=128, out_features=64, bias=True)\n",
       "  (act2): ReLU()\n",
       "  (layer3): Linear(in_features=64, out_features=10, bias=True)\n",
       "  (act3): LogSoftmax(dim=-1)\n",
       ")"
      ]
     },
     "execution_count": 1105,
     "metadata": {},
     "output_type": "execute_result"
    }
   ],
   "source": [
    "trainer2(training_data_FM, network_null,loss_fn, batch_size = 16, epoch =3 )"
   ]
  },
  {
   "cell_type": "code",
   "execution_count": 1106,
   "metadata": {},
   "outputs": [
    {
     "data": {
      "text/plain": [
       "0.8416"
      ]
     },
     "execution_count": 1106,
     "metadata": {},
     "output_type": "execute_result"
    }
   ],
   "source": [
    "success_rate2(network_null, test_data_FM)"
   ]
  },
  {
   "cell_type": "code",
   "execution_count": 1109,
   "metadata": {},
   "outputs": [],
   "source": [
    "network_Xavier = MyNetwork()"
   ]
  },
  {
   "cell_type": "code",
   "execution_count": 1110,
   "metadata": {},
   "outputs": [],
   "source": [
    "def Xavier(W):\n",
    "    Z = torch.from_numpy(np.random.randn(len(W), len(W[0]))/np.sqrt(len(W)))\n",
    "    return Z\n",
    "def init_weights(m):\n",
    "    if type(m) == nn.Linear:\n",
    "        Xavier(m.weight)"
   ]
  },
  {
   "cell_type": "code",
   "execution_count": 1111,
   "metadata": {},
   "outputs": [
    {
     "data": {
      "text/plain": [
       "MyNetwork(\n",
       "  (layer1): Linear(in_features=784, out_features=128, bias=True)\n",
       "  (act1): ReLU()\n",
       "  (layer2): Linear(in_features=128, out_features=64, bias=True)\n",
       "  (act2): ReLU()\n",
       "  (layer3): Linear(in_features=64, out_features=10, bias=True)\n",
       "  (act3): LogSoftmax(dim=-1)\n",
       ")"
      ]
     },
     "execution_count": 1111,
     "metadata": {},
     "output_type": "execute_result"
    }
   ],
   "source": [
    "network_Xavier.apply(init_weights)"
   ]
  },
  {
   "cell_type": "code",
   "execution_count": 1112,
   "metadata": {},
   "outputs": [
    {
     "data": {
      "application/vnd.jupyter.widget-view+json": {
       "model_id": "d6e774137d444db4b9d51b009d458ed6",
       "version_major": 2,
       "version_minor": 0
      },
      "text/plain": [
       "  0%|          | 0/3750 [00:00<?, ?it/s]"
      ]
     },
     "metadata": {},
     "output_type": "display_data"
    },
    {
     "data": {
      "application/vnd.jupyter.widget-view+json": {
       "model_id": "b4920d013493461bba8c78663c05505c",
       "version_major": 2,
       "version_minor": 0
      },
      "text/plain": [
       "  0%|          | 0/3750 [00:00<?, ?it/s]"
      ]
     },
     "metadata": {},
     "output_type": "display_data"
    },
    {
     "data": {
      "application/vnd.jupyter.widget-view+json": {
       "model_id": "c3226c82fde94d19886ce5b40f5925c7",
       "version_major": 2,
       "version_minor": 0
      },
      "text/plain": [
       "  0%|          | 0/3750 [00:00<?, ?it/s]"
      ]
     },
     "metadata": {},
     "output_type": "display_data"
    },
    {
     "data": {
      "text/plain": [
       "MyNetwork(\n",
       "  (layer1): Linear(in_features=784, out_features=128, bias=True)\n",
       "  (act1): ReLU()\n",
       "  (layer2): Linear(in_features=128, out_features=64, bias=True)\n",
       "  (act2): ReLU()\n",
       "  (layer3): Linear(in_features=64, out_features=10, bias=True)\n",
       "  (act3): LogSoftmax(dim=-1)\n",
       ")"
      ]
     },
     "execution_count": 1112,
     "metadata": {},
     "output_type": "execute_result"
    }
   ],
   "source": [
    "trainer2(training_data_FM, network_Xavier,loss_fn, batch_size = 16, epoch =3 )"
   ]
  },
  {
   "cell_type": "code",
   "execution_count": 1113,
   "metadata": {},
   "outputs": [
    {
     "name": "stdout",
     "output_type": "stream",
     "text": [
      "0.8441\n"
     ]
    }
   ],
   "source": [
    "print(success_rate2(network_Xavier, test_data_FM))"
   ]
  },
  {
   "cell_type": "code",
   "execution_count": 1120,
   "metadata": {},
   "outputs": [
    {
     "data": {
      "text/plain": [
       "'def plot_loss_accuracy_FM(training_data, test_data, model, lr = 0.01, epoch = 100, batch_size = 10):\\n    optimizer = torch.optim.Adam(model.parameters(), lr= lr)\\n    loss_fn = torch.nn.NLLLoss()\\n    tr_losses = []\\n    val_losses = []\\n    tr_corrects = []\\n    val_corrects = []\\n    for i in tqdm(range(epoch)):\\n        tr_loss= 0\\n        val_loss= 0\\n        tr_correct = 0\\n        val_correct = 0\\n        train_dataload = torch.utils.data.DataLoader(training_data, batch_size = batch_size)\\n        for x,y in train_dataload:\\n            y_p = model.forward(x.float())\\n            y = y.unsqueeze(1)\\n            loss = loss_fn(y_p.float(), y.float())\\n            optimizer.zero_grad()\\n            loss.backward()\\n            optimizer.step()\\n            tr_loss += loss\\n            _,preds=torch.max(y_p,1)  \\n            tr_correct+=torch.sum(preds==y.data)  \\n        test_dataload = torch.utils.data.DataLoader(test_data, batch_size = batch_size)\\n        with torch.no_grad():\\n            for x,y in test_dataload:\\n                y_p = model(x.float())\\n                #prediction_vector = model(test_data[i][0])\\n                prediction = np.argmax(list(y_p))\\n                y = y.unsqueeze(1)\\n                loss = loss_fn(y_p.float(), y.float())\\n                val_loss += loss\\n                _,preds=torch.max(y_p,1)  \\n                val_correct+=torch.sum(preds==y.data)  \\n        tr_loss/= len(train_dataload) \\n        val_loss/= len(test_dataload)\\n        tr_losses.append(tr_loss)\\n        val_losses.append(val_loss)\\n        tr_correct = tr_correct/len(train_dataload)\\n        val_correct = val_correct / len(test_dataload)\\n        tr_corrects.append(tr_correct)\\n        val_corrects.append(val_correct)\\n        \\n    fig, axs = plt.subplots(2)\\n    plt.subplots_adjust(hspace = 0.4)\\n    axs[0].plot(tr_losses, label = \\'training loss\\')\\n    axs[0].set_title(\"losses\")\\n    axs[0].plot(val_losses, label = \\'validation loss\\')\\n    axs[0].legend()\\n    axs[1].plot(tr_corrects, label = \\'training accuracy\\')\\n    axs[1].plot(val_corrects, label = \\'validation accuracy\\')\\n    axs[1].set_title(\"Accuracy\")\\n    axs[1].legend()\\n '"
      ]
     },
     "execution_count": 1120,
     "metadata": {},
     "output_type": "execute_result"
    }
   ],
   "source": [
    "#Not working\n",
    "'''def plot_loss_accuracy_FM(training_data, test_data, model, lr = 0.01, epoch = 100, batch_size = 10):\n",
    "    optimizer = torch.optim.Adam(model.parameters(), lr= lr)\n",
    "    loss_fn = torch.nn.NLLLoss()\n",
    "    tr_losses = []\n",
    "    val_losses = []\n",
    "    tr_corrects = []\n",
    "    val_corrects = []\n",
    "    for i in tqdm(range(epoch)):\n",
    "        tr_loss= 0\n",
    "        val_loss= 0\n",
    "        tr_correct = 0\n",
    "        val_correct = 0\n",
    "        train_dataload = torch.utils.data.DataLoader(training_data, batch_size = batch_size)\n",
    "        for x,y in train_dataload:\n",
    "            y_p = model.forward(x.float())\n",
    "            y = y.unsqueeze(1)\n",
    "            loss = loss_fn(y_p.float(), y.float())\n",
    "            optimizer.zero_grad()\n",
    "            loss.backward()\n",
    "            optimizer.step()\n",
    "            tr_loss += loss\n",
    "            _,preds=torch.max(y_p,1)  \n",
    "            tr_correct+=torch.sum(preds==y.data)  \n",
    "        test_dataload = torch.utils.data.DataLoader(test_data, batch_size = batch_size)\n",
    "        with torch.no_grad():\n",
    "            for x,y in test_dataload:\n",
    "                y_p = model(x.float())\n",
    "                #prediction_vector = model(test_data[i][0])\n",
    "                prediction = np.argmax(list(y_p))\n",
    "                y = y.unsqueeze(1)\n",
    "                loss = loss_fn(y_p.float(), y.float())\n",
    "                val_loss += loss\n",
    "                _,preds=torch.max(y_p,1)  \n",
    "                val_correct+=torch.sum(preds==y.data)  \n",
    "        tr_loss/= len(train_dataload) \n",
    "        val_loss/= len(test_dataload)\n",
    "        tr_losses.append(tr_loss)\n",
    "        val_losses.append(val_loss)\n",
    "        tr_correct = tr_correct/len(train_dataload)\n",
    "        val_correct = val_correct / len(test_dataload)\n",
    "        tr_corrects.append(tr_correct)\n",
    "        val_corrects.append(val_correct)\n",
    "        \n",
    "    fig, axs = plt.subplots(2)\n",
    "    plt.subplots_adjust(hspace = 0.4)\n",
    "    axs[0].plot(tr_losses, label = 'training loss')\n",
    "    axs[0].set_title(\"losses\")\n",
    "    axs[0].plot(val_losses, label = 'validation loss')\n",
    "    axs[0].legend()\n",
    "    axs[1].plot(tr_corrects, label = 'training accuracy')\n",
    "    axs[1].plot(val_corrects, label = 'validation accuracy')\n",
    "    axs[1].set_title(\"Accuracy\")\n",
    "    axs[1].legend()\n",
    " '''\n"
   ]
  },
  {
   "cell_type": "code",
   "execution_count": 1121,
   "metadata": {},
   "outputs": [],
   "source": [
    "#plot_loss_accuracy(training_data_FM, test_data_FM, network, epoch = 3, batch_size = 16)"
   ]
  },
  {
   "cell_type": "markdown",
   "metadata": {},
   "source": [
    "## Méthodes de régularisation"
   ]
  },
  {
   "cell_type": "code",
   "execution_count": 1122,
   "metadata": {},
   "outputs": [],
   "source": [
    "datas = make_circles(100, noise = 0.1)\n",
    "datas0 = torch.from_numpy(datas[0])\n",
    "datas1 = torch.from_numpy(datas[1])\n",
    "dataset2 = torch.utils.data.TensorDataset(datas0, datas1)\n"
   ]
  },
  {
   "cell_type": "code",
   "execution_count": 1123,
   "metadata": {},
   "outputs": [],
   "source": [
    "training_d = [dataset2[i] for i in range(50)]\n",
    "test_d = [dataset2[i] for i in range(50, 100)]"
   ]
  },
  {
   "cell_type": "code",
   "execution_count": 1124,
   "metadata": {},
   "outputs": [],
   "source": [
    "class Net_R(nn.Module): # a class inheriting from nn.Module\n",
    "\n",
    "    def __init__(self): \n",
    "        super(Net_R, self).__init__() # call the constructor of nn.Module\n",
    "        # Defining some layers\n",
    "        self.layer1 = nn.Linear(2,500)\n",
    "        self.act1 = nn.ReLU()\n",
    "        self.layer2 = nn.Linear(500,500)\n",
    "        self.act2 = nn.ReLU()\n",
    "        self.layer3 = nn.Linear(500,1)\n",
    "        self.act3 = nn.Sigmoid()\n",
    "    def forward(self,x): \n",
    "        #x = x.to(device)\n",
    "        result = self.act1(self.layer1(x))\n",
    "        result = self.act2(self.layer2(result))\n",
    "        result = self.act3(self.layer3(result))\n",
    "        return result\n",
    "    "
   ]
  },
  {
   "cell_type": "code",
   "execution_count": 1145,
   "metadata": {},
   "outputs": [],
   "source": [
    "net2 = Net_R()"
   ]
  },
  {
   "cell_type": "code",
   "execution_count": 1126,
   "metadata": {},
   "outputs": [],
   "source": [
    "def trainer(dataset, model, lr = 1e-3, epoch = 1000, batch_size = 1):\n",
    "    optimizer = torch.optim.Adam(model.parameters(), lr= lr)\n",
    "    loss_fn  = nn.BCELoss() \n",
    "    for i in tqdm(range(epoch)):\n",
    "        dataload = torch.utils.data.DataLoader(dataset, batch_size = batch_size)\n",
    "        for x,y in dataload:\n",
    "            y_p = model(x.float())\n",
    "            y = y.unsqueeze(1)\n",
    "            loss = loss_fn(y_p.float(), y.float())\n",
    "            optimizer.zero_grad()\n",
    "            loss.backward()\n",
    "            optimizer.step()\n",
    "    return model\n"
   ]
  },
  {
   "cell_type": "code",
   "execution_count": 1143,
   "metadata": {},
   "outputs": [
    {
     "data": {
      "application/vnd.jupyter.widget-view+json": {
       "model_id": "e47e89ae7cae468f80058cfe22ae0480",
       "version_major": 2,
       "version_minor": 0
      },
      "text/plain": [
       "  0%|          | 0/100 [00:00<?, ?it/s]"
      ]
     },
     "metadata": {},
     "output_type": "display_data"
    },
    {
     "data": {
      "text/plain": [
       "Net_R(\n",
       "  (layer1): Linear(in_features=2, out_features=500, bias=True)\n",
       "  (act1): ReLU()\n",
       "  (layer2): Linear(in_features=500, out_features=500, bias=True)\n",
       "  (act2): ReLU()\n",
       "  (layer3): Linear(in_features=500, out_features=1, bias=True)\n",
       "  (act3): Sigmoid()\n",
       ")"
      ]
     },
     "execution_count": 1143,
     "metadata": {},
     "output_type": "execute_result"
    }
   ],
   "source": [
    "trainer(training_d, net2, epoch = 100)"
   ]
  },
  {
   "cell_type": "code",
   "execution_count": 1128,
   "metadata": {},
   "outputs": [],
   "source": [
    "def success_r(model,test_data):\n",
    "    S = 0\n",
    "    n = len(test_data)\n",
    "    dl = torch.utils.data.DataLoader(test_data, batch_size = 1)\n",
    "    for x,y in dl:\n",
    "        #print(model.W2.size())\n",
    "        prediction = model(x.float())\n",
    "        #print(prediction.size())\n",
    "        if torch.abs((prediction- y)) < 0.5:\n",
    "            S += 1    \n",
    "    return S/n"
   ]
  },
  {
   "cell_type": "code",
   "execution_count": 1148,
   "metadata": {},
   "outputs": [
    {
     "data": {
      "text/plain": [
       "0.98"
      ]
     },
     "execution_count": 1148,
     "metadata": {},
     "output_type": "execute_result"
    }
   ],
   "source": [
    "success_r(net2, test_d)"
   ]
  },
  {
   "cell_type": "code",
   "execution_count": 1130,
   "metadata": {},
   "outputs": [],
   "source": [
    "from matplotlib import pyplot as plt"
   ]
  },
  {
   "cell_type": "code",
   "execution_count": 1139,
   "metadata": {},
   "outputs": [],
   "source": [
    "def train_plot_loss_accuracy(training_data, test_data, model, lr = 0.01, epoch = 100, batch_size = 10):\n",
    "    optimizer = torch.optim.Adam(model.parameters(), lr= lr)\n",
    "    loss_fn  = nn.BCELoss() \n",
    "    tr_losses = []\n",
    "    val_losses = []\n",
    "    tr_corrects = []\n",
    "    val_corrects = []\n",
    "    for i in tqdm(range(epoch)):\n",
    "        tr_loss= 0\n",
    "        val_loss= 0\n",
    "        tr_correct = 0\n",
    "        val_correct = 0\n",
    "        train_dataload = torch.utils.data.DataLoader(training_data, batch_size = batch_size)\n",
    "        model.train()\n",
    "        for x,y in train_dataload:\n",
    "            y_p = model.forward(x.float())\n",
    "            y = y.unsqueeze(1)\n",
    "            loss = loss_fn(y_p.float(), y.float())\n",
    "            optimizer.zero_grad()\n",
    "            loss.backward()\n",
    "            optimizer.step()\n",
    "            tr_loss += loss\n",
    "            _,preds=torch.max(y_p,1)  \n",
    "            tr_correct+=torch.sum(preds==y.data)  \n",
    "        test_dataload = torch.utils.data.DataLoader(test_data, batch_size = batch_size)\n",
    "        model.eval()\n",
    "        with torch.no_grad():\n",
    "            for x,y in test_dataload:\n",
    "                y_p = model(x.float())\n",
    "                y = y.unsqueeze(1)\n",
    "                loss = loss_fn(y_p.float(), y.float())\n",
    "                val_loss += loss\n",
    "                _,preds=torch.max(y_p,1)  \n",
    "                val_correct+=torch.sum(preds==y.data)  \n",
    "        tr_loss/= len(train_dataload) \n",
    "        val_loss/= len(test_dataload)\n",
    "        tr_losses.append(tr_loss)\n",
    "        val_losses.append(val_loss)\n",
    "        tr_correct = tr_correct/len(train_dataload)\n",
    "        val_correct = val_correct / len(test_dataload)\n",
    "        tr_corrects.append(tr_correct)\n",
    "        val_corrects.append(val_correct)\n",
    "        \n",
    "    fig, axs = plt.subplots(2)\n",
    "    plt.subplots_adjust(hspace = 0.4)\n",
    "    axs[0].plot(tr_losses, label = 'training loss')\n",
    "    axs[0].set_title(\"losses\")\n",
    "    axs[0].plot(val_losses, label = 'validation loss')\n",
    "    axs[0].legend()\n",
    "    axs[1].plot(tr_corrects, label = 'training accuracy')\n",
    "    axs[1].plot(val_corrects, label = 'validation accuracy')\n",
    "    axs[1].set_title(\"Accuracy\")\n",
    "    axs[1].legend()"
   ]
  },
  {
   "cell_type": "code",
   "execution_count": 1147,
   "metadata": {},
   "outputs": [
    {
     "data": {
      "application/vnd.jupyter.widget-view+json": {
       "model_id": "a6b863e0f5ab409fa22c42b15ed1a4d0",
       "version_major": 2,
       "version_minor": 0
      },
      "text/plain": [
       "  0%|          | 0/50 [00:00<?, ?it/s]"
      ]
     },
     "metadata": {},
     "output_type": "display_data"
    },
    {
     "data": {
      "image/png": "[encoded data removed]",
      "text/plain": [
       "<Figure size 432x288 with 2 Axes>"
      ]
     },
     "metadata": {
      "needs_background": "light"
     },
     "output_type": "display_data"
    }
   ],
   "source": [
    "train_plot_loss_accuracy(training_data, test_data, net2, epoch = 50, batch_size = 10)"
   ]
  },
  {
   "cell_type": "code",
   "execution_count": 1131,
   "metadata": {},
   "outputs": [],
   "source": [
    "\n",
    "def plot_precision(dataset, test, model, lr = 1e-3, epoch = 1000, batch_size = 1):\n",
    "    optimizer = torch.optim.Adam(model.parameters(), lr= lr)\n",
    "    loss_fn  = nn.BCELoss() \n",
    "    precision = []\n",
    "    for i in tqdm(range(epoch)):\n",
    "        dataload = torch.utils.data.DataLoader(dataset, batch_size = batch_size)\n",
    "        for x,y in dataload:\n",
    "            y_p = model(x.float())\n",
    "            y = y.unsqueeze(1)\n",
    "            loss = loss_fn(y_p.float(), y.float())\n",
    "            optimizer.zero_grad()\n",
    "            loss.backward()\n",
    "            optimizer.step()\n",
    "        precision.append(success_r(model, test))\n",
    "    plt.figure(figsize = (6,6))\n",
    "    plt.plot(precision)\n",
    "    \n",
    "    "
   ]
  },
  {
   "cell_type": "code",
   "execution_count": 1154,
   "metadata": {},
   "outputs": [],
   "source": [
    "net2 = Net_R()"
   ]
  },
  {
   "cell_type": "code",
   "execution_count": 1155,
   "metadata": {},
   "outputs": [
    {
     "data": {
      "application/vnd.jupyter.widget-view+json": {
       "model_id": "365032715b634b2a9546e3d4f19c5ac3",
       "version_major": 2,
       "version_minor": 0
      },
      "text/plain": [
       "  0%|          | 0/400 [00:00<?, ?it/s]"
      ]
     },
     "metadata": {},
     "output_type": "display_data"
    },
    {
     "data": {
      "image/png": "[encoded data removed]",
      "text/plain": [
       "<Figure size 432x432 with 1 Axes>"
      ]
     },
     "metadata": {
      "needs_background": "light"
     },
     "output_type": "display_data"
    }
   ],
   "source": [
    "plot_precision(training_d, test_d, net2, epoch = 400)"
   ]
  },
  {
   "cell_type": "code",
   "execution_count": 1156,
   "metadata": {},
   "outputs": [],
   "source": [
    "net2 = Net_R()"
   ]
  },
  {
   "cell_type": "code",
   "execution_count": 1157,
   "metadata": {},
   "outputs": [],
   "source": [
    "def plot_cost(dataset, test, model, lr = 1e-3, epoch = 1000, batch_size = 1):\n",
    "    optimizer = torch.optim.Adam(model.parameters(), lr= lr)\n",
    "    loss_fn  = nn.BCELoss() \n",
    "    cost = []\n",
    "    for i in tqdm(range(epoch)):\n",
    "        Loss_epoch = 0\n",
    "        dataload = torch.utils.data.DataLoader(dataset, batch_size = batch_size)\n",
    "        for x,y in dataload:\n",
    "            y_p = model(x.float())\n",
    "            y = y.unsqueeze(1)\n",
    "            loss = loss_fn(y_p.float(), y.float())\n",
    "            Loss_epoch += loss\n",
    "            optimizer.zero_grad()\n",
    "            loss.backward()\n",
    "            optimizer.step()\n",
    "        cost.append(Loss_epoch)\n",
    "    plt.figure(figsize = (6,6))\n",
    "    plt.plot(cost)"
   ]
  },
  {
   "cell_type": "code",
   "execution_count": 1158,
   "metadata": {},
   "outputs": [
    {
     "data": {
      "application/vnd.jupyter.widget-view+json": {
       "model_id": "cf5934163fb242849d6b60a2a6932105",
       "version_major": 2,
       "version_minor": 0
      },
      "text/plain": [
       "  0%|          | 0/400 [00:00<?, ?it/s]"
      ]
     },
     "metadata": {},
     "output_type": "display_data"
    },
    {
     "data": {
      "image/png": "[encoded data removed]",
      "text/plain": [
       "<Figure size 432x432 with 1 Axes>"
      ]
     },
     "metadata": {
      "needs_background": "light"
     },
     "output_type": "display_data"
    }
   ],
   "source": [
    "plot_cost(training_d, test_d, net2, epoch = 400)"
   ]
  },
  {
   "cell_type": "code",
   "execution_count": 1159,
   "metadata": {},
   "outputs": [
    {
     "data": {
      "text/plain": [
       "0.84"
      ]
     },
     "execution_count": 1159,
     "metadata": {},
     "output_type": "execute_result"
    }
   ],
   "source": [
    "success_r(net2, test_d)"
   ]
  },
  {
   "cell_type": "code",
   "execution_count": 1160,
   "metadata": {},
   "outputs": [],
   "source": [
    "class Net_Dropout(nn.Module): # a class inheriting from nn.Module\n",
    "\n",
    "    def __init__(self): \n",
    "        super(Net_Dropout, self).__init__() # call the constructor of nn.Module\n",
    "        # Defining some layers\n",
    "        self.layer1 = nn.Linear(2,500)\n",
    "        self.act1 = nn.ReLU()\n",
    "        self.layer2 = nn.Linear(500,500)\n",
    "        self.act2 = nn.ReLU()\n",
    "        self.layer3 = nn.Linear(500,1)\n",
    "        self.act3 = nn.Sigmoid()\n",
    "        self.drop = nn.Dropout(p=0.5)\n",
    "    def forward(self,x): \n",
    "        #x = x.to(device)\n",
    "        result = self.act1(self.drop(self.layer1(x)))\n",
    "        result = self.act2(self.drop(self.layer2(result)))\n",
    "        result = self.act3((self.layer3(result)))\n",
    "        return result\n",
    "    #def predict(self,x):\n",
    "        \n",
    "    "
   ]
  },
  {
   "cell_type": "code",
   "execution_count": 1161,
   "metadata": {},
   "outputs": [],
   "source": [
    "net_dropout = Net_Dropout()"
   ]
  },
  {
   "cell_type": "code",
   "execution_count": 1162,
   "metadata": {},
   "outputs": [
    {
     "data": {
      "text/plain": [
       "0.5"
      ]
     },
     "execution_count": 1162,
     "metadata": {},
     "output_type": "execute_result"
    }
   ],
   "source": [
    "success_r(net_dropout, test_d)"
   ]
  },
  {
   "cell_type": "code",
   "execution_count": 1163,
   "metadata": {},
   "outputs": [],
   "source": [
    "def plot_cost(dataset, test, model, lr = 1e-3, epoch = 1000, batch_size = 1):\n",
    "    optimizer = torch.optim.Adam(model.parameters(), lr= lr)\n",
    "    loss_fn  = nn.BCELoss() \n",
    "    cost = []\n",
    "    for i in tqdm(range(epoch)):\n",
    "        Loss_epoch = 0\n",
    "        dataload = torch.utils.data.DataLoader(dataset, batch_size = batch_size)\n",
    "        for x,y in dataload:\n",
    "            y_p = model(x.float())\n",
    "            y = y.unsqueeze(1)\n",
    "            loss = loss_fn(y_p.float(), y.float())\n",
    "            Loss_epoch += loss\n",
    "            optimizer.zero_grad()\n",
    "            loss.backward()\n",
    "            optimizer.step()\n",
    "        cost.append(Loss_epoch)\n",
    "    plt.figure(figsize = (6,6))\n",
    "    plt.plot(cost)"
   ]
  },
  {
   "cell_type": "code",
   "execution_count": 1164,
   "metadata": {},
   "outputs": [
    {
     "data": {
      "application/vnd.jupyter.widget-view+json": {
       "model_id": "5ad49be463434464bb158dad4d77f8e1",
       "version_major": 2,
       "version_minor": 0
      },
      "text/plain": [
       "  0%|          | 0/100 [00:00<?, ?it/s]"
      ]
     },
     "metadata": {},
     "output_type": "display_data"
    },
    {
     "data": {
      "image/png": "[encoded data removed]",
      "text/plain": [
       "<Figure size 432x432 with 1 Axes>"
      ]
     },
     "metadata": {
      "needs_background": "light"
     },
     "output_type": "display_data"
    }
   ],
   "source": [
    "plot_cost(training_d, test_d, net_dropout, epoch = 100)"
   ]
  },
  {
   "cell_type": "code",
   "execution_count": 1165,
   "metadata": {},
   "outputs": [
    {
     "data": {
      "text/plain": [
       "0.74"
      ]
     },
     "execution_count": 1165,
     "metadata": {},
     "output_type": "execute_result"
    }
   ],
   "source": [
    "success_r(net_dropout, test_d)"
   ]
  },
  {
   "cell_type": "code",
   "execution_count": 1166,
   "metadata": {},
   "outputs": [],
   "source": [
    "net_dropout = Net_Dropout()"
   ]
  },
  {
   "cell_type": "code",
   "execution_count": 1167,
   "metadata": {},
   "outputs": [
    {
     "data": {
      "application/vnd.jupyter.widget-view+json": {
       "model_id": "1dd51aecc6a74ddf9eefe60130ae27bf",
       "version_major": 2,
       "version_minor": 0
      },
      "text/plain": [
       "  0%|          | 0/100 [00:00<?, ?it/s]"
      ]
     },
     "metadata": {},
     "output_type": "display_data"
    },
    {
     "data": {
      "image/png": "[encoded data removed]",
      "text/plain": [
       "<Figure size 432x432 with 1 Axes>"
      ]
     },
     "metadata": {
      "needs_background": "light"
     },
     "output_type": "display_data"
    }
   ],
   "source": [
    "plot_precision(training_d, test_d, net_dropout, epoch = 100)"
   ]
  },
  {
   "cell_type": "markdown",
   "metadata": {},
   "source": [
    "## Batch Nomralization"
   ]
  },
  {
   "cell_type": "code",
   "execution_count": 1168,
   "metadata": {},
   "outputs": [],
   "source": [
    "class Net_Batch_norm(nn.Module): # a class inheriting from nn.Module\n",
    "\n",
    "    def __init__(self): \n",
    "        super(Net_Batch_norm, self).__init__() # call the constructor of nn.Module\n",
    "        # Defining some layers\n",
    "        self.layer1 = nn.Linear(2,500)\n",
    "        self.bn1 = nn.BatchNorm1d(500)\n",
    "        self.act1 = nn.ReLU()\n",
    "        self.layer2 = nn.Linear(500,500)\n",
    "        self.bn2 = nn.BatchNorm1d(500)\n",
    "        self.act2 = nn.ReLU()\n",
    "        self.layer3 = nn.Linear(500,1)\n",
    "        self.bn3 = nn.BatchNorm1d(1)\n",
    "        self.act3 = nn.Sigmoid()\n",
    "    def forward(self,x): \n",
    "        #x = x.to(device)\n",
    "        '''\n",
    "        try:\n",
    "            result = self.act1(self.bn1(self.layer1(x)))\n",
    "            result = self.act2(self.bn2(self.layer2(result)))\n",
    "            result = self.act3(self.layer3(result))\n",
    "        except:\n",
    "            result = self.act1(self.layer1(x))\n",
    "            result = self.act2(self.layer2(result))\n",
    "            result = self.act3(self.layer3(result))\n",
    "        '''\n",
    "        if x.size()[0] != 1:\n",
    "            result = self.act1(self.bn1(self.layer1(x)))\n",
    "            result = self.act2(self.bn2(self.layer2(result)))\n",
    "            result = self.act3(self.bn3(self.layer3(result)))\n",
    "            return result\n",
    "        else:\n",
    "            result = self.act1(self.layer1(x))\n",
    "            result = self.act2(self.layer2(result))\n",
    "            result = self.act3(self.layer3(result))\n",
    "        return result\n",
    "    \n",
    "    def predict(self,x):\n",
    "        result = self.act1(self.layer1(x))\n",
    "        result = self.act2(self.layer2(result))\n",
    "        result = self.act3(self.layer3(result))\n",
    "        return result\n",
    "            \n",
    "    "
   ]
  },
  {
   "cell_type": "code",
   "execution_count": 1172,
   "metadata": {},
   "outputs": [
    {
     "data": {
      "text/plain": [
       "'\\nmodel_bn = nn.Sequential(nn.Linear(2,500),\\n                       nn.BatchNorm1d(500), nn.ReLU(),nn.Linear(500,500),\\n                         nn.BatchNorm1d(500),nn.ReLU(),nn.Linear(500,1),nn.BatchNorm1d(1),nn.Sigmoid() )\\n                        '"
      ]
     },
     "execution_count": 1172,
     "metadata": {},
     "output_type": "execute_result"
    }
   ],
   "source": [
    "\"\"\"\n",
    "model_bn = nn.Sequential(nn.Linear(2,500),\n",
    "                       nn.BatchNorm1d(500), nn.ReLU(),nn.Linear(500,500),\n",
    "                         nn.BatchNorm1d(500),nn.ReLU(),nn.Linear(500,1),nn.BatchNorm1d(1),nn.Sigmoid() )\n",
    "                        \"\"\""
   ]
  },
  {
   "cell_type": "code",
   "execution_count": 1173,
   "metadata": {},
   "outputs": [],
   "source": [
    "net_bn = Net_Batch_norm()"
   ]
  },
  {
   "cell_type": "code",
   "execution_count": 1175,
   "metadata": {},
   "outputs": [],
   "source": [
    "def plot_cost_bn(dataset, model, lr = 1e-3, epoch = 1000, batch_size = 1):\n",
    "    optimizer = torch.optim.Adam(model.parameters(), lr= lr)\n",
    "    loss_fn  = nn.BCELoss() \n",
    "    cost = []\n",
    "    for i in tqdm(range(epoch)):\n",
    "        Loss_epoch = 0\n",
    "        dataload = torch.utils.data.DataLoader(dataset, batch_size = batch_size)\n",
    "        for x,y in dataload:\n",
    "            y_p = model(x.float())\n",
    "            y = y.unsqueeze(1)\n",
    "            loss = loss_fn(y_p.float(), y.float())\n",
    "            Loss_epoch += loss\n",
    "            optimizer.zero_grad()\n",
    "            loss.backward()\n",
    "            optimizer.step()\n",
    "        cost.append(Loss_epoch)\n",
    "    plt.figure(figsize = (6,6))\n",
    "    plt.plot(cost)"
   ]
  },
  {
   "cell_type": "code",
   "execution_count": 1176,
   "metadata": {},
   "outputs": [
    {
     "data": {
      "application/vnd.jupyter.widget-view+json": {
       "model_id": "66e06c5fa0d04903b87a9042a9a892be",
       "version_major": 2,
       "version_minor": 0
      },
      "text/plain": [
       "  0%|          | 0/100 [00:00<?, ?it/s]"
      ]
     },
     "metadata": {},
     "output_type": "display_data"
    },
    {
     "data": {
      "image/png": "[encoded data removed]",
      "text/plain": [
       "<Figure size 432x432 with 1 Axes>"
      ]
     },
     "metadata": {
      "needs_background": "light"
     },
     "output_type": "display_data"
    }
   ],
   "source": [
    "plot_cost_bn(training_d, net_bn, epoch = 100)"
   ]
  },
  {
   "cell_type": "code",
   "execution_count": 694,
   "metadata": {},
   "outputs": [
    {
     "name": "stdout",
     "output_type": "stream",
     "text": [
      "torch.Size([2, 2])\n",
      "tensor([1, 0])\n",
      "tensor([[0.2690],\n",
      "        [0.7310]], grad_fn=<SigmoidBackward>)\n",
      "True\n"
     ]
    }
   ],
   "source": [
    "dataload = torch.utils.data.DataLoader(training_d, batch_size = 2)\n",
    "for x,y in dataload:\n",
    "    print(x.size())\n",
    "    print(y)\n",
    "    y_p = net_bn.forward((x.float()))\n",
    "    print(y_p)\n",
    "    print(net_bn.bn1.track_running_stats)\n",
    "    break\n",
    "            "
   ]
  },
  {
   "cell_type": "code",
   "execution_count": 637,
   "metadata": {},
   "outputs": [],
   "source": [
    "def train_bn(dataset, model, lr = 1e-3, epoch = 1000, batch_size = 1):\n",
    "    optimizer = torch.optim.Adam(model.parameters(), lr= lr)\n",
    "    loss_fn  = nn.BCELoss() \n",
    "    for i in tqdm(range(epoch)):\n",
    "        dataload = torch.utils.data.DataLoader(dataset, batch_size = batch_size)\n",
    "        for x,y in dataload:\n",
    "            y_p = model.forward(x.float())\n",
    "            y = y.unsqueeze(1)\n",
    "            loss = loss_fn(y_p.float(), y.float())\n",
    "            optimizer.zero_grad()\n",
    "            loss.backward()\n",
    "            optimizer.step()\n",
    "    return model"
   ]
  },
  {
   "cell_type": "code",
   "execution_count": 1196,
   "metadata": {},
   "outputs": [
    {
     "data": {
      "application/vnd.jupyter.widget-view+json": {
       "model_id": "ada9b663e4224f9bb4ced2da0f8beb2f",
       "version_major": 2,
       "version_minor": 0
      },
      "text/plain": [
       "  0%|          | 0/200 [00:00<?, ?it/s]"
      ]
     },
     "metadata": {},
     "output_type": "display_data"
    },
    {
     "data": {
      "text/plain": [
       "Net_Batch_norm(\n",
       "  (layer1): Linear(in_features=2, out_features=500, bias=True)\n",
       "  (bn1): BatchNorm1d(500, eps=1e-05, momentum=0.1, affine=True, track_running_stats=True)\n",
       "  (act1): ReLU()\n",
       "  (layer2): Linear(in_features=500, out_features=500, bias=True)\n",
       "  (bn2): BatchNorm1d(500, eps=1e-05, momentum=0.1, affine=True, track_running_stats=True)\n",
       "  (act2): ReLU()\n",
       "  (layer3): Linear(in_features=500, out_features=1, bias=True)\n",
       "  (bn3): BatchNorm1d(1, eps=1e-05, momentum=0.1, affine=True, track_running_stats=True)\n",
       "  (act3): Sigmoid()\n",
       ")"
      ]
     },
     "execution_count": 1196,
     "metadata": {},
     "output_type": "execute_result"
    }
   ],
   "source": [
    "train_bn(training_d, net_bn, epoch = 200, batch_size = 10 )"
   ]
  },
  {
   "cell_type": "code",
   "execution_count": 738,
   "metadata": {},
   "outputs": [],
   "source": [
    "def plot_loss_accuracy(training_data, test_data, model, lr = 0.01, epoch = 100, batch_size = 10):\n",
    "    optimizer = torch.optim.Adam(model.parameters(), lr= lr)\n",
    "    loss_fn  = nn.BCELoss() \n",
    "    tr_losses = []\n",
    "    val_losses = []\n",
    "    tr_corrects = []\n",
    "    val_corrects = []\n",
    "    for i in tqdm(range(epoch)):\n",
    "        tr_loss= 0\n",
    "        val_loss= 0\n",
    "        tr_correct = 0\n",
    "        val_correct = 0\n",
    "        train_dataload = torch.utils.data.DataLoader(training_data, batch_size = batch_size)\n",
    "        for x,y in train_dataload:\n",
    "            y_p = model.forward(x.float())\n",
    "            y = y.unsqueeze(1)\n",
    "            loss = loss_fn(y_p.float(), y.float())\n",
    "            optimizer.zero_grad()\n",
    "            loss.backward()\n",
    "            optimizer.step()\n",
    "            tr_loss += loss\n",
    "            _,preds=torch.max(y_p,1)  \n",
    "            tr_correct+=torch.sum(preds==y.data)  \n",
    "        test_dataload = torch.utils.data.DataLoader(test_data, batch_size = batch_size)\n",
    "        with torch.no_grad():\n",
    "            for x,y in test_dataload:\n",
    "                y_p = model(x.float())\n",
    "                y = y.unsqueeze(1)\n",
    "                loss = loss_fn(y_p.float(), y.float())\n",
    "                val_loss += loss\n",
    "                _,preds=torch.max(y_p,1)  \n",
    "                val_correct+=torch.sum(preds==y.data)  \n",
    "        tr_loss/= len(train_dataload) \n",
    "        val_loss/= len(test_dataload)\n",
    "        tr_losses.append(tr_loss)\n",
    "        val_losses.append(val_loss)\n",
    "        tr_correct = tr_correct/len(train_dataload)\n",
    "        val_correct = val_correct / len(test_dataload)\n",
    "        tr_corrects.append(tr_correct)\n",
    "        val_corrects.append(val_correct)\n",
    "        \n",
    "    fig, axs = plt.subplots(2)\n",
    "    plt.subplots_adjust(hspace = 0.4)\n",
    "    axs[0].plot(tr_losses, label = 'training loss')\n",
    "    axs[0].set_title(\"losses\")\n",
    "    axs[0].plot(val_losses, label = 'validation loss')\n",
    "    axs[0].legend()\n",
    "    axs[1].plot(tr_corrects, label = 'training accuracy')\n",
    "    axs[1].plot(val_corrects, label = 'validation accuracy')\n",
    "    axs[1].set_title(\"Accuracy\")\n",
    "    axs[1].legend()\n",
    "\n",
    "        \n",
    "        \n",
    "                \n",
    "            "
   ]
  },
  {
   "cell_type": "code",
   "execution_count": 1195,
   "metadata": {},
   "outputs": [],
   "source": [
    "net_bn = Net_Batch_norm()"
   ]
  },
  {
   "cell_type": "code",
   "execution_count": 1178,
   "metadata": {},
   "outputs": [
    {
     "data": {
      "application/vnd.jupyter.widget-view+json": {
       "model_id": "1fee84b9ba3b4ac38d3dff0c1f07b595",
       "version_major": 2,
       "version_minor": 0
      },
      "text/plain": [
       "  0%|          | 0/100 [00:00<?, ?it/s]"
      ]
     },
     "metadata": {},
     "output_type": "display_data"
    },
    {
     "data": {
      "image/png": "[encoded data removed]",
      "text/plain": [
       "<Figure size 432x288 with 2 Axes>"
      ]
     },
     "metadata": {
      "needs_background": "light"
     },
     "output_type": "display_data"
    }
   ],
   "source": [
    "plot_loss_accuracy(training_d, test_d, net_bn, epoch = 100, batch_size = 10)"
   ]
  },
  {
   "cell_type": "code",
   "execution_count": 1180,
   "metadata": {},
   "outputs": [
    {
     "data": {
      "application/vnd.jupyter.widget-view+json": {
       "model_id": "5e19ea6e36e24b478d2cfbf2f3d3ca12",
       "version_major": 2,
       "version_minor": 0
      },
      "text/plain": [
       "  0%|          | 0/100 [00:00<?, ?it/s]"
      ]
     },
     "metadata": {},
     "output_type": "display_data"
    },
    {
     "data": {
      "image/png": "[encoded data removed]",
      "text/plain": [
       "<Figure size 432x432 with 1 Axes>"
      ]
     },
     "metadata": {
      "needs_background": "light"
     },
     "output_type": "display_data"
    }
   ],
   "source": [
    "plot_cost(training_d, test_d, model_bn, epoch = 100, batch_size = 2)"
   ]
  },
  {
   "cell_type": "code",
   "execution_count": 1193,
   "metadata": {},
   "outputs": [],
   "source": [
    "def success_r_b(model,test_data):\n",
    "    S = 0\n",
    "    n = len(test_data)\n",
    "    dl = torch.utils.data.DataLoader(test_data, batch_size = 1)\n",
    "    #model.eval()\n",
    "    #with torch.no_grad():\n",
    "    model.eval()\n",
    "    for x,y in dl:\n",
    "        #print(model.W2.size())\n",
    "        prediction = model(x.float())\n",
    "        #model.bn1.track_running_stats = False\n",
    "        #model.bn2.track_running_stats = False\n",
    "        #model.bn3.track_running_stats = False\n",
    "        #print(prediction.size())\n",
    "        '''if torch.abs((prediction- y)) < 0.5:\n",
    "            S += 1 '''\n",
    "        if torch.abs(prediction - y) < torch.abs(prediction - (1-y)):\n",
    "            S+= 1\n",
    "    model.train()\n",
    "    return S/n"
   ]
  },
  {
   "cell_type": "code",
   "execution_count": 1197,
   "metadata": {},
   "outputs": [
    {
     "data": {
      "text/plain": [
       "0.6"
      ]
     },
     "execution_count": 1197,
     "metadata": {},
     "output_type": "execute_result"
    }
   ],
   "source": [
    "success_r_b(net_bn, test_d)"
   ]
  },
  {
   "cell_type": "code",
   "execution_count": 685,
   "metadata": {},
   "outputs": [],
   "source": [
    "def plot_precision_bn(dataset, test, model, lr = 1e-3, epoch = 1000, batch_size = 1):\n",
    "    optimizer = torch.optim.Adam(model.parameters(), lr= lr)\n",
    "    loss_fn  = nn.BCELoss() \n",
    "    precision = []\n",
    "    for i in tqdm(range(epoch)):\n",
    "        dataload = torch.utils.data.DataLoader(dataset, batch_size = batch_size)\n",
    "        for x,y in dataload:\n",
    "            y_p = model(x.float())\n",
    "            y = y.unsqueeze(1)\n",
    "            loss = loss_fn(y_p.float(), y.float())\n",
    "            optimizer.zero_grad()\n",
    "            loss.backward()\n",
    "            optimizer.step()\n",
    "        precision.append(success_r_b(model, test))\n",
    "    plt.figure(figsize = (6,6))\n",
    "    plt.plot(precision)\n",
    "    \n",
    "    "
   ]
  },
  {
   "cell_type": "code",
   "execution_count": null,
   "metadata": {},
   "outputs": [],
   "source": []
  }
 ],
 "metadata": {
  "colab": {
   "collapsed_sections": [],
   "name": "Untitled7.ipynb",
   "provenance": []
  },
  "kernelspec": {
   "display_name": "Python 3",
   "language": "python",
   "name": "python3"
  },
  "language_info": {
   "codemirror_mode": {
    "name": "ipython",
    "version": 3
   },
   "file_extension": ".py",
   "mimetype": "text/x-python",
   "name": "python",
   "nbconvert_exporter": "python",
   "pygments_lexer": "ipython3",
   "version": "3.7.4"
  },
  "latex_envs": {
   "LaTeX_envs_menu_present": true,
   "autoclose": false,
   "autocomplete": false,
   "bibliofile": "biblio.bib",
   "cite_by": "apalike",
   "current_citInitial": 1,
   "eqLabelWithNumbers": true,
   "eqNumInitial": 1,
   "hotkeys": {
    "equation": "Ctrl-E",
    "itemize": "Ctrl-I"
   },
   "labels_anchors": false,
   "latex_user_defs": false,
   "report_style_numbering": false,
   "user_envs_cfg": false
  },
  "widgets": {
   "application/vnd.jupyter.widget-state+json": {
    "42af77ca7fac4415b539837ca0544a14": {
     "model_module": "@jupyter-widgets/base",
     "model_name": "LayoutModel",
     "state": {
      "_model_module": "@jupyter-widgets/base",
      "_model_module_version": "1.2.0",
      "_model_name": "LayoutModel",
      "_view_count": null,
      "_view_module": "@jupyter-widgets/base",
      "_view_module_version": "1.2.0",
      "_view_name": "LayoutView",
      "align_content": null,
      "align_items": null,
      "align_self": null,
      "border": null,
      "bottom": null,
      "display": null,
      "flex": null,
      "flex_flow": null,
      "grid_area": null,
      "grid_auto_columns": null,
      "grid_auto_flow": null,
      "grid_auto_rows": null,
      "grid_column": null,
      "grid_gap": null,
      "grid_row": null,
      "grid_template_areas": null,
      "grid_template_columns": null,
      "grid_template_rows": null,
      "height": null,
      "justify_content": null,
      "justify_items": null,
      "left": null,
      "margin": null,
      "max_height": null,
      "max_width": null,
      "min_height": null,
      "min_width": null,
      "object_fit": null,
      "object_position": null,
      "order": null,
      "overflow": null,
      "overflow_x": null,
      "overflow_y": null,
      "padding": null,
      "right": null,
      "top": null,
      "visibility": null,
      "width": null
     }
    },
    "480ffcd48d8d42eba477543b31cc826c": {
     "model_module": "@jupyter-widgets/controls",
     "model_name": "ProgressStyleModel",
     "state": {
      "_model_module": "@jupyter-widgets/controls",
      "_model_module_version": "1.5.0",
      "_model_name": "ProgressStyleModel",
      "_view_count": null,
      "_view_module": "@jupyter-widgets/base",
      "_view_module_version": "1.2.0",
      "_view_name": "StyleView",
      "bar_color": null,
      "description_width": "initial"
     }
    },
    "6d8043e6bba14b6ba3be0bcad0986f31": {
     "model_module": "@jupyter-widgets/controls",
     "model_name": "HBoxModel",
     "state": {
      "_dom_classes": [],
      "_model_module": "@jupyter-widgets/controls",
      "_model_module_version": "1.5.0",
      "_model_name": "HBoxModel",
      "_view_count": null,
      "_view_module": "@jupyter-widgets/controls",
      "_view_module_version": "1.5.0",
      "_view_name": "HBoxView",
      "box_style": "",
      "children": [
       "IPY_MODEL_911d2cccd8f64a35b4aa8c710d773e3f",
       "IPY_MODEL_fe5c3488a6d94e9e88a4ae917e1b8d63"
      ],
      "layout": "IPY_MODEL_42af77ca7fac4415b539837ca0544a14"
     }
    },
    "911d2cccd8f64a35b4aa8c710d773e3f": {
     "model_module": "@jupyter-widgets/controls",
     "model_name": "FloatProgressModel",
     "state": {
      "_dom_classes": [],
      "_model_module": "@jupyter-widgets/controls",
      "_model_module_version": "1.5.0",
      "_model_name": "FloatProgressModel",
      "_view_count": null,
      "_view_module": "@jupyter-widgets/controls",
      "_view_module_version": "1.5.0",
      "_view_name": "ProgressView",
      "bar_style": "danger",
      "description": "  0%",
      "description_tooltip": null,
      "layout": "IPY_MODEL_fa8df00662ef45f890255ab1d83b578e",
      "max": 250,
      "min": 0,
      "orientation": "horizontal",
      "style": "IPY_MODEL_480ffcd48d8d42eba477543b31cc826c",
      "value": 0
     }
    },
    "b2e9220208c24a3ea7f76103759d74f0": {
     "model_module": "@jupyter-widgets/controls",
     "model_name": "DescriptionStyleModel",
     "state": {
      "_model_module": "@jupyter-widgets/controls",
      "_model_module_version": "1.5.0",
      "_model_name": "DescriptionStyleModel",
      "_view_count": null,
      "_view_module": "@jupyter-widgets/base",
      "_view_module_version": "1.2.0",
      "_view_name": "StyleView",
      "description_width": ""
     }
    },
    "ba6afe544db64c19bcc96b4eb06d46a1": {
     "model_module": "@jupyter-widgets/base",
     "model_name": "LayoutModel",
     "state": {
      "_model_module": "@jupyter-widgets/base",
      "_model_module_version": "1.2.0",
      "_model_name": "LayoutModel",
      "_view_count": null,
      "_view_module": "@jupyter-widgets/base",
      "_view_module_version": "1.2.0",
      "_view_name": "LayoutView",
      "align_content": null,
      "align_items": null,
      "align_self": null,
      "border": null,
      "bottom": null,
      "display": null,
      "flex": null,
      "flex_flow": null,
      "grid_area": null,
      "grid_auto_columns": null,
      "grid_auto_flow": null,
      "grid_auto_rows": null,
      "grid_column": null,
      "grid_gap": null,
      "grid_row": null,
      "grid_template_areas": null,
      "grid_template_columns": null,
      "grid_template_rows": null,
      "height": null,
      "justify_content": null,
      "justify_items": null,
      "left": null,
      "margin": null,
      "max_height": null,
      "max_width": null,
      "min_height": null,
      "min_width": null,
      "object_fit": null,
      "object_position": null,
      "order": null,
      "overflow": null,
      "overflow_x": null,
      "overflow_y": null,
      "padding": null,
      "right": null,
      "top": null,
      "visibility": null,
      "width": null
     }
    },
    "fa8df00662ef45f890255ab1d83b578e": {
     "model_module": "@jupyter-widgets/base",
     "model_name": "LayoutModel",
     "state": {
      "_model_module": "@jupyter-widgets/base",
      "_model_module_version": "1.2.0",
      "_model_name": "LayoutModel",
      "_view_count": null,
      "_view_module": "@jupyter-widgets/base",
      "_view_module_version": "1.2.0",
      "_view_name": "LayoutView",
      "align_content": null,
      "align_items": null,
      "align_self": null,
      "border": null,
      "bottom": null,
      "display": null,
      "flex": null,
      "flex_flow": null,
      "grid_area": null,
      "grid_auto_columns": null,
      "grid_auto_flow": null,
      "grid_auto_rows": null,
      "grid_column": null,
      "grid_gap": null,
      "grid_row": null,
      "grid_template_areas": null,
      "grid_template_columns": null,
      "grid_template_rows": null,
      "height": null,
      "justify_content": null,
      "justify_items": null,
      "left": null,
      "margin": null,
      "max_height": null,
      "max_width": null,
      "min_height": null,
      "min_width": null,
      "object_fit": null,
      "object_position": null,
      "order": null,
      "overflow": null,
      "overflow_x": null,
      "overflow_y": null,
      "padding": null,
      "right": null,
      "top": null,
      "visibility": null,
      "width": null
     }
    },
    "fe5c3488a6d94e9e88a4ae917e1b8d63": {
     "model_module": "@jupyter-widgets/controls",
     "model_name": "HTMLModel",
     "state": {
      "_dom_classes": [],
      "_model_module": "@jupyter-widgets/controls",
      "_model_module_version": "1.5.0",
      "_model_name": "HTMLModel",
      "_view_count": null,
      "_view_module": "@jupyter-widgets/controls",
      "_view_module_version": "1.5.0",
      "_view_name": "HTMLView",
      "description": "",
      "description_tooltip": null,
      "layout": "IPY_MODEL_ba6afe544db64c19bcc96b4eb06d46a1",
      "placeholder": "​",
      "style": "IPY_MODEL_b2e9220208c24a3ea7f76103759d74f0",
      "value": " 0/250 [00:00&lt;?, ?it/s]"
     }
    }
   }
  }
 },
 "nbformat": 4,
 "nbformat_minor": 1
}
