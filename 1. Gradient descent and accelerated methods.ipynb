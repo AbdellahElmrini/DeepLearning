{
  "nbformat": 4,
  "nbformat_minor": 0,
  "metadata": {
    "colab": {
      "name": "TD1.ipynb",
      "provenance": [],
      "collapsed_sections": []
    },
    "kernelspec": {
      "display_name": "Python 3",
      "language": "python",
      "name": "python3"
    },
    "language_info": {
      "codemirror_mode": {
        "name": "ipython",
        "version": 3
      },
      "file_extension": ".py",
      "mimetype": "text/x-python",
      "name": "python",
      "nbconvert_exporter": "python",
      "pygments_lexer": "ipython3",
      "version": "3.7.4"
    },
    "latex_envs": {
      "LaTeX_envs_menu_present": true,
      "autoclose": false,
      "autocomplete": false,
      "bibliofile": "biblio.bib",
      "cite_by": "apalike",
      "current_citInitial": 1,
      "eqLabelWithNumbers": true,
      "eqNumInitial": 1,
      "hotkeys": {
        "equation": "Ctrl-E",
        "itemize": "Ctrl-I"
      },
      "labels_anchors": false,
      "latex_user_defs": false,
      "report_style_numbering": false,
      "user_envs_cfg": false
    },
    "widgets": {
      "application/vnd.jupyter.widget-state+json": {
        "253b327d5e734e07b257bdae4c2f442a": {
          "model_module": "@jupyter-widgets/controls",
          "model_name": "HBoxModel",
          "state": {
            "_view_name": "HBoxView",
            "_dom_classes": [],
            "_model_name": "HBoxModel",
            "_view_module": "@jupyter-widgets/controls",
            "_model_module_version": "1.5.0",
            "_view_count": null,
            "_view_module_version": "1.5.0",
            "box_style": "",
            "layout": "IPY_MODEL_ee0edbd65e4545d98678b351d93b28e5",
            "_model_module": "@jupyter-widgets/controls",
            "children": [
              "IPY_MODEL_03ba7ad64dbb4e0c865dcd22f05cbc0a",
              "IPY_MODEL_33c67742f600437da25b50ab00d2058c"
            ]
          }
        },
        "ee0edbd65e4545d98678b351d93b28e5": {
          "model_module": "@jupyter-widgets/base",
          "model_name": "LayoutModel",
          "state": {
            "_view_name": "LayoutView",
            "grid_template_rows": null,
            "right": null,
            "justify_content": null,
            "_view_module": "@jupyter-widgets/base",
            "overflow": null,
            "_model_module_version": "1.2.0",
            "_view_count": null,
            "flex_flow": null,
            "width": null,
            "min_width": null,
            "border": null,
            "align_items": null,
            "bottom": null,
            "_model_module": "@jupyter-widgets/base",
            "top": null,
            "grid_column": null,
            "overflow_y": null,
            "overflow_x": null,
            "grid_auto_flow": null,
            "grid_area": null,
            "grid_template_columns": null,
            "flex": null,
            "_model_name": "LayoutModel",
            "justify_items": null,
            "grid_row": null,
            "max_height": null,
            "align_content": null,
            "visibility": null,
            "align_self": null,
            "height": null,
            "min_height": null,
            "padding": null,
            "grid_auto_rows": null,
            "grid_gap": null,
            "max_width": null,
            "order": null,
            "_view_module_version": "1.2.0",
            "grid_template_areas": null,
            "object_position": null,
            "object_fit": null,
            "grid_auto_columns": null,
            "margin": null,
            "display": null,
            "left": null
          }
        },
        "03ba7ad64dbb4e0c865dcd22f05cbc0a": {
          "model_module": "@jupyter-widgets/controls",
          "model_name": "FloatProgressModel",
          "state": {
            "_view_name": "ProgressView",
            "style": "IPY_MODEL_29b26ab722ee4e74893fda4e636f679c",
            "_dom_classes": [],
            "description": "",
            "_model_name": "FloatProgressModel",
            "bar_style": "success",
            "max": 29515,
            "_view_module": "@jupyter-widgets/controls",
            "_model_module_version": "1.5.0",
            "value": 29515,
            "_view_count": null,
            "_view_module_version": "1.5.0",
            "orientation": "horizontal",
            "min": 0,
            "description_tooltip": null,
            "_model_module": "@jupyter-widgets/controls",
            "layout": "IPY_MODEL_350e930707de4cfcb4247cd21b6598e8"
          }
        },
        "33c67742f600437da25b50ab00d2058c": {
          "model_module": "@jupyter-widgets/controls",
          "model_name": "HTMLModel",
          "state": {
            "_view_name": "HTMLView",
            "style": "IPY_MODEL_10f7f3bc10dc4621b6bfe6edd23cf2ec",
            "_dom_classes": [],
            "description": "",
            "_model_name": "HTMLModel",
            "placeholder": "​",
            "_view_module": "@jupyter-widgets/controls",
            "_model_module_version": "1.5.0",
            "value": " 29696/? [00:03&lt;00:00, 9542.71it/s]",
            "_view_count": null,
            "_view_module_version": "1.5.0",
            "description_tooltip": null,
            "_model_module": "@jupyter-widgets/controls",
            "layout": "IPY_MODEL_c1335ac57cca49b4857241db869378d3"
          }
        },
        "29b26ab722ee4e74893fda4e636f679c": {
          "model_module": "@jupyter-widgets/controls",
          "model_name": "ProgressStyleModel",
          "state": {
            "_view_name": "StyleView",
            "_model_name": "ProgressStyleModel",
            "description_width": "initial",
            "_view_module": "@jupyter-widgets/base",
            "_model_module_version": "1.5.0",
            "_view_count": null,
            "_view_module_version": "1.2.0",
            "bar_color": null,
            "_model_module": "@jupyter-widgets/controls"
          }
        },
        "350e930707de4cfcb4247cd21b6598e8": {
          "model_module": "@jupyter-widgets/base",
          "model_name": "LayoutModel",
          "state": {
            "_view_name": "LayoutView",
            "grid_template_rows": null,
            "right": null,
            "justify_content": null,
            "_view_module": "@jupyter-widgets/base",
            "overflow": null,
            "_model_module_version": "1.2.0",
            "_view_count": null,
            "flex_flow": null,
            "width": null,
            "min_width": null,
            "border": null,
            "align_items": null,
            "bottom": null,
            "_model_module": "@jupyter-widgets/base",
            "top": null,
            "grid_column": null,
            "overflow_y": null,
            "overflow_x": null,
            "grid_auto_flow": null,
            "grid_area": null,
            "grid_template_columns": null,
            "flex": null,
            "_model_name": "LayoutModel",
            "justify_items": null,
            "grid_row": null,
            "max_height": null,
            "align_content": null,
            "visibility": null,
            "align_self": null,
            "height": null,
            "min_height": null,
            "padding": null,
            "grid_auto_rows": null,
            "grid_gap": null,
            "max_width": null,
            "order": null,
            "_view_module_version": "1.2.0",
            "grid_template_areas": null,
            "object_position": null,
            "object_fit": null,
            "grid_auto_columns": null,
            "margin": null,
            "display": null,
            "left": null
          }
        },
        "10f7f3bc10dc4621b6bfe6edd23cf2ec": {
          "model_module": "@jupyter-widgets/controls",
          "model_name": "DescriptionStyleModel",
          "state": {
            "_view_name": "StyleView",
            "_model_name": "DescriptionStyleModel",
            "description_width": "",
            "_view_module": "@jupyter-widgets/base",
            "_model_module_version": "1.5.0",
            "_view_count": null,
            "_view_module_version": "1.2.0",
            "_model_module": "@jupyter-widgets/controls"
          }
        },
        "c1335ac57cca49b4857241db869378d3": {
          "model_module": "@jupyter-widgets/base",
          "model_name": "LayoutModel",
          "state": {
            "_view_name": "LayoutView",
            "grid_template_rows": null,
            "right": null,
            "justify_content": null,
            "_view_module": "@jupyter-widgets/base",
            "overflow": null,
            "_model_module_version": "1.2.0",
            "_view_count": null,
            "flex_flow": null,
            "width": null,
            "min_width": null,
            "border": null,
            "align_items": null,
            "bottom": null,
            "_model_module": "@jupyter-widgets/base",
            "top": null,
            "grid_column": null,
            "overflow_y": null,
            "overflow_x": null,
            "grid_auto_flow": null,
            "grid_area": null,
            "grid_template_columns": null,
            "flex": null,
            "_model_name": "LayoutModel",
            "justify_items": null,
            "grid_row": null,
            "max_height": null,
            "align_content": null,
            "visibility": null,
            "align_self": null,
            "height": null,
            "min_height": null,
            "padding": null,
            "grid_auto_rows": null,
            "grid_gap": null,
            "max_width": null,
            "order": null,
            "_view_module_version": "1.2.0",
            "grid_template_areas": null,
            "object_position": null,
            "object_fit": null,
            "grid_auto_columns": null,
            "margin": null,
            "display": null,
            "left": null
          }
        },
        "8ad438ddba774508bc2596f744bedc63": {
          "model_module": "@jupyter-widgets/controls",
          "model_name": "HBoxModel",
          "state": {
            "_view_name": "HBoxView",
            "_dom_classes": [],
            "_model_name": "HBoxModel",
            "_view_module": "@jupyter-widgets/controls",
            "_model_module_version": "1.5.0",
            "_view_count": null,
            "_view_module_version": "1.5.0",
            "box_style": "",
            "layout": "IPY_MODEL_6da4be6bf40f421490552b906641c480",
            "_model_module": "@jupyter-widgets/controls",
            "children": [
              "IPY_MODEL_65ddc8f5487b46de8bbab20345555b7a",
              "IPY_MODEL_0673162894d6439180cdb6b45939ef70"
            ]
          }
        },
        "6da4be6bf40f421490552b906641c480": {
          "model_module": "@jupyter-widgets/base",
          "model_name": "LayoutModel",
          "state": {
            "_view_name": "LayoutView",
            "grid_template_rows": null,
            "right": null,
            "justify_content": null,
            "_view_module": "@jupyter-widgets/base",
            "overflow": null,
            "_model_module_version": "1.2.0",
            "_view_count": null,
            "flex_flow": null,
            "width": null,
            "min_width": null,
            "border": null,
            "align_items": null,
            "bottom": null,
            "_model_module": "@jupyter-widgets/base",
            "top": null,
            "grid_column": null,
            "overflow_y": null,
            "overflow_x": null,
            "grid_auto_flow": null,
            "grid_area": null,
            "grid_template_columns": null,
            "flex": null,
            "_model_name": "LayoutModel",
            "justify_items": null,
            "grid_row": null,
            "max_height": null,
            "align_content": null,
            "visibility": null,
            "align_self": null,
            "height": null,
            "min_height": null,
            "padding": null,
            "grid_auto_rows": null,
            "grid_gap": null,
            "max_width": null,
            "order": null,
            "_view_module_version": "1.2.0",
            "grid_template_areas": null,
            "object_position": null,
            "object_fit": null,
            "grid_auto_columns": null,
            "margin": null,
            "display": null,
            "left": null
          }
        },
        "65ddc8f5487b46de8bbab20345555b7a": {
          "model_module": "@jupyter-widgets/controls",
          "model_name": "FloatProgressModel",
          "state": {
            "_view_name": "ProgressView",
            "style": "IPY_MODEL_a42aea4b08c94dae8097820da3c4a737",
            "_dom_classes": [],
            "description": "",
            "_model_name": "FloatProgressModel",
            "bar_style": "success",
            "max": 4422102,
            "_view_module": "@jupyter-widgets/controls",
            "_model_module_version": "1.5.0",
            "value": 4422102,
            "_view_count": null,
            "_view_module_version": "1.5.0",
            "orientation": "horizontal",
            "min": 0,
            "description_tooltip": null,
            "_model_module": "@jupyter-widgets/controls",
            "layout": "IPY_MODEL_8eac1c3650414b61955eaa4925c9e64f"
          }
        },
        "0673162894d6439180cdb6b45939ef70": {
          "model_module": "@jupyter-widgets/controls",
          "model_name": "HTMLModel",
          "state": {
            "_view_name": "HTMLView",
            "style": "IPY_MODEL_03daa2b284174cb2bcdf025e51d276fe",
            "_dom_classes": [],
            "description": "",
            "_model_name": "HTMLModel",
            "placeholder": "​",
            "_view_module": "@jupyter-widgets/controls",
            "_model_module_version": "1.5.0",
            "value": " 4422656/? [00:01&lt;00:00, 3567295.23it/s]",
            "_view_count": null,
            "_view_module_version": "1.5.0",
            "description_tooltip": null,
            "_model_module": "@jupyter-widgets/controls",
            "layout": "IPY_MODEL_b5f521b2fb22467b895f7645c7aea8ae"
          }
        },
        "a42aea4b08c94dae8097820da3c4a737": {
          "model_module": "@jupyter-widgets/controls",
          "model_name": "ProgressStyleModel",
          "state": {
            "_view_name": "StyleView",
            "_model_name": "ProgressStyleModel",
            "description_width": "initial",
            "_view_module": "@jupyter-widgets/base",
            "_model_module_version": "1.5.0",
            "_view_count": null,
            "_view_module_version": "1.2.0",
            "bar_color": null,
            "_model_module": "@jupyter-widgets/controls"
          }
        },
        "8eac1c3650414b61955eaa4925c9e64f": {
          "model_module": "@jupyter-widgets/base",
          "model_name": "LayoutModel",
          "state": {
            "_view_name": "LayoutView",
            "grid_template_rows": null,
            "right": null,
            "justify_content": null,
            "_view_module": "@jupyter-widgets/base",
            "overflow": null,
            "_model_module_version": "1.2.0",
            "_view_count": null,
            "flex_flow": null,
            "width": null,
            "min_width": null,
            "border": null,
            "align_items": null,
            "bottom": null,
            "_model_module": "@jupyter-widgets/base",
            "top": null,
            "grid_column": null,
            "overflow_y": null,
            "overflow_x": null,
            "grid_auto_flow": null,
            "grid_area": null,
            "grid_template_columns": null,
            "flex": null,
            "_model_name": "LayoutModel",
            "justify_items": null,
            "grid_row": null,
            "max_height": null,
            "align_content": null,
            "visibility": null,
            "align_self": null,
            "height": null,
            "min_height": null,
            "padding": null,
            "grid_auto_rows": null,
            "grid_gap": null,
            "max_width": null,
            "order": null,
            "_view_module_version": "1.2.0",
            "grid_template_areas": null,
            "object_position": null,
            "object_fit": null,
            "grid_auto_columns": null,
            "margin": null,
            "display": null,
            "left": null
          }
        },
        "03daa2b284174cb2bcdf025e51d276fe": {
          "model_module": "@jupyter-widgets/controls",
          "model_name": "DescriptionStyleModel",
          "state": {
            "_view_name": "StyleView",
            "_model_name": "DescriptionStyleModel",
            "description_width": "",
            "_view_module": "@jupyter-widgets/base",
            "_model_module_version": "1.5.0",
            "_view_count": null,
            "_view_module_version": "1.2.0",
            "_model_module": "@jupyter-widgets/controls"
          }
        },
        "b5f521b2fb22467b895f7645c7aea8ae": {
          "model_module": "@jupyter-widgets/base",
          "model_name": "LayoutModel",
          "state": {
            "_view_name": "LayoutView",
            "grid_template_rows": null,
            "right": null,
            "justify_content": null,
            "_view_module": "@jupyter-widgets/base",
            "overflow": null,
            "_model_module_version": "1.2.0",
            "_view_count": null,
            "flex_flow": null,
            "width": null,
            "min_width": null,
            "border": null,
            "align_items": null,
            "bottom": null,
            "_model_module": "@jupyter-widgets/base",
            "top": null,
            "grid_column": null,
            "overflow_y": null,
            "overflow_x": null,
            "grid_auto_flow": null,
            "grid_area": null,
            "grid_template_columns": null,
            "flex": null,
            "_model_name": "LayoutModel",
            "justify_items": null,
            "grid_row": null,
            "max_height": null,
            "align_content": null,
            "visibility": null,
            "align_self": null,
            "height": null,
            "min_height": null,
            "padding": null,
            "grid_auto_rows": null,
            "grid_gap": null,
            "max_width": null,
            "order": null,
            "_view_module_version": "1.2.0",
            "grid_template_areas": null,
            "object_position": null,
            "object_fit": null,
            "grid_auto_columns": null,
            "margin": null,
            "display": null,
            "left": null
          }
        },
        "a7f9142b4c3c4c19ad49170f475a4219": {
          "model_module": "@jupyter-widgets/controls",
          "model_name": "HBoxModel",
          "state": {
            "_view_name": "HBoxView",
            "_dom_classes": [],
            "_model_name": "HBoxModel",
            "_view_module": "@jupyter-widgets/controls",
            "_model_module_version": "1.5.0",
            "_view_count": null,
            "_view_module_version": "1.5.0",
            "box_style": "",
            "layout": "IPY_MODEL_462931125495474ba235247240f8697e",
            "_model_module": "@jupyter-widgets/controls",
            "children": [
              "IPY_MODEL_e7236f4bbdc84a1c81dd42eecdd9a0da",
              "IPY_MODEL_d8f73c492a0d4604939c4a865ff05429"
            ]
          }
        },
        "462931125495474ba235247240f8697e": {
          "model_module": "@jupyter-widgets/base",
          "model_name": "LayoutModel",
          "state": {
            "_view_name": "LayoutView",
            "grid_template_rows": null,
            "right": null,
            "justify_content": null,
            "_view_module": "@jupyter-widgets/base",
            "overflow": null,
            "_model_module_version": "1.2.0",
            "_view_count": null,
            "flex_flow": null,
            "width": null,
            "min_width": null,
            "border": null,
            "align_items": null,
            "bottom": null,
            "_model_module": "@jupyter-widgets/base",
            "top": null,
            "grid_column": null,
            "overflow_y": null,
            "overflow_x": null,
            "grid_auto_flow": null,
            "grid_area": null,
            "grid_template_columns": null,
            "flex": null,
            "_model_name": "LayoutModel",
            "justify_items": null,
            "grid_row": null,
            "max_height": null,
            "align_content": null,
            "visibility": null,
            "align_self": null,
            "height": null,
            "min_height": null,
            "padding": null,
            "grid_auto_rows": null,
            "grid_gap": null,
            "max_width": null,
            "order": null,
            "_view_module_version": "1.2.0",
            "grid_template_areas": null,
            "object_position": null,
            "object_fit": null,
            "grid_auto_columns": null,
            "margin": null,
            "display": null,
            "left": null
          }
        },
        "e7236f4bbdc84a1c81dd42eecdd9a0da": {
          "model_module": "@jupyter-widgets/controls",
          "model_name": "FloatProgressModel",
          "state": {
            "_view_name": "ProgressView",
            "style": "IPY_MODEL_bf83f3b9fa52453e91eeddf15181bee6",
            "_dom_classes": [],
            "description": "",
            "_model_name": "FloatProgressModel",
            "bar_style": "success",
            "max": 5148,
            "_view_module": "@jupyter-widgets/controls",
            "_model_module_version": "1.5.0",
            "value": 5148,
            "_view_count": null,
            "_view_module_version": "1.5.0",
            "orientation": "horizontal",
            "min": 0,
            "description_tooltip": null,
            "_model_module": "@jupyter-widgets/controls",
            "layout": "IPY_MODEL_90fa830acd0e46dd8790617c2a539fff"
          }
        },
        "d8f73c492a0d4604939c4a865ff05429": {
          "model_module": "@jupyter-widgets/controls",
          "model_name": "HTMLModel",
          "state": {
            "_view_name": "HTMLView",
            "style": "IPY_MODEL_3710224d1d2448cf829de087bcbdea12",
            "_dom_classes": [],
            "description": "",
            "_model_name": "HTMLModel",
            "placeholder": "​",
            "_view_module": "@jupyter-widgets/controls",
            "_model_module_version": "1.5.0",
            "value": " 6144/? [00:00&lt;00:00, 229759.31it/s]",
            "_view_count": null,
            "_view_module_version": "1.5.0",
            "description_tooltip": null,
            "_model_module": "@jupyter-widgets/controls",
            "layout": "IPY_MODEL_a4a3cf8fdfff4ceda1ae0f872eb01004"
          }
        },
        "bf83f3b9fa52453e91eeddf15181bee6": {
          "model_module": "@jupyter-widgets/controls",
          "model_name": "ProgressStyleModel",
          "state": {
            "_view_name": "StyleView",
            "_model_name": "ProgressStyleModel",
            "description_width": "initial",
            "_view_module": "@jupyter-widgets/base",
            "_model_module_version": "1.5.0",
            "_view_count": null,
            "_view_module_version": "1.2.0",
            "bar_color": null,
            "_model_module": "@jupyter-widgets/controls"
          }
        },
        "90fa830acd0e46dd8790617c2a539fff": {
          "model_module": "@jupyter-widgets/base",
          "model_name": "LayoutModel",
          "state": {
            "_view_name": "LayoutView",
            "grid_template_rows": null,
            "right": null,
            "justify_content": null,
            "_view_module": "@jupyter-widgets/base",
            "overflow": null,
            "_model_module_version": "1.2.0",
            "_view_count": null,
            "flex_flow": null,
            "width": null,
            "min_width": null,
            "border": null,
            "align_items": null,
            "bottom": null,
            "_model_module": "@jupyter-widgets/base",
            "top": null,
            "grid_column": null,
            "overflow_y": null,
            "overflow_x": null,
            "grid_auto_flow": null,
            "grid_area": null,
            "grid_template_columns": null,
            "flex": null,
            "_model_name": "LayoutModel",
            "justify_items": null,
            "grid_row": null,
            "max_height": null,
            "align_content": null,
            "visibility": null,
            "align_self": null,
            "height": null,
            "min_height": null,
            "padding": null,
            "grid_auto_rows": null,
            "grid_gap": null,
            "max_width": null,
            "order": null,
            "_view_module_version": "1.2.0",
            "grid_template_areas": null,
            "object_position": null,
            "object_fit": null,
            "grid_auto_columns": null,
            "margin": null,
            "display": null,
            "left": null
          }
        },
        "3710224d1d2448cf829de087bcbdea12": {
          "model_module": "@jupyter-widgets/controls",
          "model_name": "DescriptionStyleModel",
          "state": {
            "_view_name": "StyleView",
            "_model_name": "DescriptionStyleModel",
            "description_width": "",
            "_view_module": "@jupyter-widgets/base",
            "_model_module_version": "1.5.0",
            "_view_count": null,
            "_view_module_version": "1.2.0",
            "_model_module": "@jupyter-widgets/controls"
          }
        },
        "a4a3cf8fdfff4ceda1ae0f872eb01004": {
          "model_module": "@jupyter-widgets/base",
          "model_name": "LayoutModel",
          "state": {
            "_view_name": "LayoutView",
            "grid_template_rows": null,
            "right": null,
            "justify_content": null,
            "_view_module": "@jupyter-widgets/base",
            "overflow": null,
            "_model_module_version": "1.2.0",
            "_view_count": null,
            "flex_flow": null,
            "width": null,
            "min_width": null,
            "border": null,
            "align_items": null,
            "bottom": null,
            "_model_module": "@jupyter-widgets/base",
            "top": null,
            "grid_column": null,
            "overflow_y": null,
            "overflow_x": null,
            "grid_auto_flow": null,
            "grid_area": null,
            "grid_template_columns": null,
            "flex": null,
            "_model_name": "LayoutModel",
            "justify_items": null,
            "grid_row": null,
            "max_height": null,
            "align_content": null,
            "visibility": null,
            "align_self": null,
            "height": null,
            "min_height": null,
            "padding": null,
            "grid_auto_rows": null,
            "grid_gap": null,
            "max_width": null,
            "order": null,
            "_view_module_version": "1.2.0",
            "grid_template_areas": null,
            "object_position": null,
            "object_fit": null,
            "grid_auto_columns": null,
            "margin": null,
            "display": null,
            "left": null
          }
        }
      }
    }
  },
  "cells": [
    {
      "cell_type": "markdown",
      "metadata": {
        "id": "TrLeeFcsmpRA"
      },
      "source": [
        "# Descente de gradient"
      ]
    },
    {
      "cell_type": "markdown",
      "metadata": {
        "id": "qDRnO07zkmRq"
      },
      "source": [
        "**Sur des fonctions à une seule variable**\n",
        "\n",
        "\n"
      ]
    },
    {
      "cell_type": "code",
      "metadata": {
        "id": "zT1BoEulf5Pj"
      },
      "source": [
        "import matplotlib.pyplot as plt\n",
        "import numpy as np\n",
        "import sympy as sp\n",
        "\n",
        "def gradient_descent(f,x0,eta,epsilon):\n",
        "    x = sp.symbols(\"x\")\n",
        "    df = sp.lambdify(x,sp.diff(f(x),x)) # la dérivée de f (fonctionne si f n'est pas trop compliquée)\n",
        "    result = x0\n",
        "    while np.abs(df(result))>epsilon:\n",
        "        result = result - eta*df(result)\n",
        "    return result"
      ],
      "execution_count": null,
      "outputs": []
    },
    {
      "cell_type": "code",
      "metadata": {
        "id": "Lj9oKQKUgLo9"
      },
      "source": [
        "g = lambda x : x**2-x+1\n",
        "eta=.01\n",
        "x0=10\n",
        "epsilon=.01"
      ],
      "execution_count": null,
      "outputs": []
    },
    {
      "cell_type": "code",
      "metadata": {
        "id": "3x7Z0R4Pgp5h"
      },
      "source": [
        "gradient_descent(g, x0, eta, epsilon)"
      ],
      "execution_count": null,
      "outputs": []
    },
    {
      "cell_type": "code",
      "metadata": {
        "id": "K1Dlw4tWjPrf"
      },
      "source": [
        "f = lambda x: 0.01*(x**4+2*x**3-12*x**2-2*x+6)\n",
        "gradient_descent(f, x0, eta, epsilon)"
      ],
      "execution_count": null,
      "outputs": []
    },
    {
      "cell_type": "code",
      "metadata": {
        "id": "5geISXoUjX-R"
      },
      "source": [
        "eta = .2\n",
        "x0 = 4\n",
        "epsilon = 0.1"
      ],
      "execution_count": null,
      "outputs": []
    },
    {
      "cell_type": "code",
      "metadata": {
        "id": "cxM0atvYjvqM"
      },
      "source": [
        "gradient_descent(f, x0, eta, epsilon)"
      ],
      "execution_count": null,
      "outputs": []
    },
    {
      "cell_type": "markdown",
      "metadata": {
        "id": "4YRKowyHyAye"
      },
      "source": [
        "epsilon est plus grand, le résultat est moins précis"
      ]
    },
    {
      "cell_type": "code",
      "metadata": {
        "id": "v1neWJ99k-LJ"
      },
      "source": [
        "h = lambda x: x*x\n",
        "x0 = 1\n",
        "epsilon = 0.1\n",
        "eta = 1\n",
        "# gradient_descent(h, x0, eta, epsilon) ne s'arrête pas"
      ],
      "execution_count": null,
      "outputs": []
    },
    {
      "cell_type": "markdown",
      "metadata": {
        "id": "bpNO2GjnmZkB"
      },
      "source": [
        "# Apprentissage par descente de gradient : approximations linéaires\n",
        "\n"
      ]
    },
    {
      "cell_type": "markdown",
      "metadata": {
        "id": "aQqckOHGm3Qh"
      },
      "source": [
        "**Descente de Gradient**"
      ]
    },
    {
      "cell_type": "code",
      "metadata": {
        "id": "OvCdweG2zMCt"
      },
      "source": [
        "pip install torchvision"
      ],
      "execution_count": null,
      "outputs": []
    },
    {
      "cell_type": "code",
      "metadata": {
        "colab": {
          "base_uri": "https://localhost:8080/",
          "height": 388,
          "referenced_widgets": [
            "253b327d5e734e07b257bdae4c2f442a",
            "ee0edbd65e4545d98678b351d93b28e5",
            "03ba7ad64dbb4e0c865dcd22f05cbc0a",
            "33c67742f600437da25b50ab00d2058c",
            "29b26ab722ee4e74893fda4e636f679c",
            "350e930707de4cfcb4247cd21b6598e8",
            "10f7f3bc10dc4621b6bfe6edd23cf2ec",
            "c1335ac57cca49b4857241db869378d3",
            "8ad438ddba774508bc2596f744bedc63",
            "6da4be6bf40f421490552b906641c480",
            "65ddc8f5487b46de8bbab20345555b7a",
            "0673162894d6439180cdb6b45939ef70",
            "a42aea4b08c94dae8097820da3c4a737",
            "8eac1c3650414b61955eaa4925c9e64f",
            "03daa2b284174cb2bcdf025e51d276fe",
            "b5f521b2fb22467b895f7645c7aea8ae",
            "a7f9142b4c3c4c19ad49170f475a4219",
            "462931125495474ba235247240f8697e",
            "e7236f4bbdc84a1c81dd42eecdd9a0da",
            "d8f73c492a0d4604939c4a865ff05429",
            "bf83f3b9fa52453e91eeddf15181bee6",
            "90fa830acd0e46dd8790617c2a539fff",
            "3710224d1d2448cf829de087bcbdea12",
            "a4a3cf8fdfff4ceda1ae0f872eb01004"
          ]
        },
        "id": "c6V070Xlmdoj",
        "outputId": "015f1f99-5922-4bcb-db51-c7b1ce297127"
      },
      "source": [
        "from torchvision import datasets\n",
        "import matplotlib.pyplot as plt\n",
        "\n",
        "training_data = datasets.FashionMNIST(\".\",download=True,train=True)\n",
        "test_data = datasets.FashionMNIST(\".\",download=True,train=False)"
      ],
      "execution_count": 10,
      "outputs": [
        {
          "output_type": "stream",
          "text": [
            "\n",
            "Extracting ./FashionMNIST/raw/train-images-idx3-ubyte.gz to ./FashionMNIST/raw\n",
            "Downloading http://fashion-mnist.s3-website.eu-central-1.amazonaws.com/train-labels-idx1-ubyte.gz to ./FashionMNIST/raw/train-labels-idx1-ubyte.gz\n"
          ],
          "name": "stdout"
        },
        {
          "output_type": "display_data",
          "data": {
            "application/vnd.jupyter.widget-view+json": {
              "model_id": "253b327d5e734e07b257bdae4c2f442a",
              "version_minor": 0,
              "version_major": 2
            },
            "text/plain": [
              "HBox(children=(FloatProgress(value=0.0, max=29515.0), HTML(value='')))"
            ]
          },
          "metadata": {
            "tags": []
          }
        },
        {
          "output_type": "stream",
          "text": [
            "\n",
            "Extracting ./FashionMNIST/raw/train-labels-idx1-ubyte.gz to ./FashionMNIST/raw\n",
            "Downloading http://fashion-mnist.s3-website.eu-central-1.amazonaws.com/t10k-images-idx3-ubyte.gz to ./FashionMNIST/raw/t10k-images-idx3-ubyte.gz\n"
          ],
          "name": "stdout"
        },
        {
          "output_type": "display_data",
          "data": {
            "application/vnd.jupyter.widget-view+json": {
              "model_id": "8ad438ddba774508bc2596f744bedc63",
              "version_minor": 0,
              "version_major": 2
            },
            "text/plain": [
              "HBox(children=(FloatProgress(value=0.0, max=4422102.0), HTML(value='')))"
            ]
          },
          "metadata": {
            "tags": []
          }
        },
        {
          "output_type": "stream",
          "text": [
            "\n",
            "Extracting ./FashionMNIST/raw/t10k-images-idx3-ubyte.gz to ./FashionMNIST/raw\n",
            "Downloading http://fashion-mnist.s3-website.eu-central-1.amazonaws.com/t10k-labels-idx1-ubyte.gz to ./FashionMNIST/raw/t10k-labels-idx1-ubyte.gz\n"
          ],
          "name": "stdout"
        },
        {
          "output_type": "display_data",
          "data": {
            "application/vnd.jupyter.widget-view+json": {
              "model_id": "a7f9142b4c3c4c19ad49170f475a4219",
              "version_minor": 0,
              "version_major": 2
            },
            "text/plain": [
              "HBox(children=(FloatProgress(value=0.0, max=5148.0), HTML(value='')))"
            ]
          },
          "metadata": {
            "tags": []
          }
        },
        {
          "output_type": "stream",
          "text": [
            "\n",
            "Extracting ./FashionMNIST/raw/t10k-labels-idx1-ubyte.gz to ./FashionMNIST/raw\n",
            "Processing...\n",
            "Done!\n"
          ],
          "name": "stdout"
        },
        {
          "output_type": "stream",
          "text": [
            "/usr/local/lib/python3.7/dist-packages/torchvision/datasets/mnist.py:479: UserWarning: The given NumPy array is not writeable, and PyTorch does not support non-writeable tensors. This means you can write to the underlying (supposedly non-writeable) NumPy array using the tensor. You may want to copy the array to protect its data or make it writeable before converting it to a tensor. This type of warning will be suppressed for the rest of this program. (Triggered internally at  /pytorch/torch/csrc/utils/tensor_numpy.cpp:143.)\n",
            "  return torch.from_numpy(parsed.astype(m[2], copy=False)).view(*s)\n"
          ],
          "name": "stderr"
        }
      ]
    },
    {
      "cell_type": "code",
      "metadata": {
        "colab": {
          "base_uri": "https://localhost:8080/",
          "height": 282
        },
        "id": "httM2RCmnrNm",
        "outputId": "7c654f18-6e22-4ca6-f8b5-9b28bce4b92d"
      },
      "source": [
        "plt.imshow(training_data[1000][0])"
      ],
      "execution_count": 11,
      "outputs": [
        {
          "output_type": "execute_result",
          "data": {
            "text/plain": [
              "<matplotlib.image.AxesImage at 0x7fbcad4a0750>"
            ]
          },
          "metadata": {
            "tags": []
          },
          "execution_count": 11
        },
        {
          "output_type": "display_data",
          "data": {
            "image/png": "[encoded data removed]",
            "text/plain": [
              "<Figure size 432x288 with 1 Axes>"
            ]
          },
          "metadata": {
            "tags": [],
            "needs_background": "light"
          }
        }
      ]
    },
    {
      "cell_type": "code",
      "metadata": {
        "id": "LoBv0-9cn2Vj"
      },
      "source": [
        "test_data = [(np.ndarray.flatten(np.array(img))/255,cat) for img,cat in test_data]\n",
        "training_data = [(np.ndarray.flatten(np.array(img))/255,cat) for img,cat in training_data]\n",
        "np.random.shuffle(training_data) # on mélange les données d'entraînement qui étaient classées\n",
        "training_data = training_data[:10000]"
      ],
      "execution_count": 12,
      "outputs": []
    },
    {
      "cell_type": "code",
      "metadata": {
        "colab": {
          "base_uri": "https://localhost:8080/"
        },
        "id": "EEWKYne_4AWf",
        "outputId": "1308145c-312c-45c2-c171-9939eb14e9bc"
      },
      "source": [
        "tb = training_data[0:100]\n",
        "len(tb[0][0])"
      ],
      "execution_count": 13,
      "outputs": [
        {
          "output_type": "execute_result",
          "data": {
            "text/plain": [
              "784"
            ]
          },
          "metadata": {
            "tags": []
          },
          "execution_count": 13
        }
      ]
    },
    {
      "cell_type": "code",
      "metadata": {
        "id": "WLNEoQuqn-rW"
      },
      "source": [
        "def propagate(w,b,training_data):\n",
        "    n = len(training_data)\n",
        "    m = len(training_data[0][0])\n",
        "    S = 0\n",
        "    gradw = np.zeros(m)\n",
        "    gradb = 0\n",
        "    for x,y in training_data:\n",
        "        S += (y-np.dot(w, x) - b)**2\n",
        "        gradb += 2*(b-y) -2*y*np.dot(w, x)\n",
        "        gr = np.dot(x,w) + b - y\n",
        "        gradw += 2*x*gr \n",
        "    S /= n\n",
        "    cout = S\n",
        "    gradw /= n\n",
        "    gradb /= n\n",
        "    return (cout,gradw,gradb)"
      ],
      "execution_count": 14,
      "outputs": []
    },
    {
      "cell_type": "code",
      "metadata": {
        "id": "M-Cegl45uRUh"
      },
      "source": [
        "def optimize_gd(w,b,training_data,rate=5e-3,maxiter=1000,info=50):\n",
        "    i = 0\n",
        "    cout = 100\n",
        "    couts = []\n",
        "    while i<maxiter and cout>rate:\n",
        "        cout,gradw,gradb = propagate(w,b,training_data)\n",
        "        #if i%info ==0:\n",
        "          #print(cout)\n",
        "        couts.append(cout)\n",
        "        w = w - gradw*rate \n",
        "        b = b - gradb*rate\n",
        "        i += 1\n",
        "    return w,b,couts"
      ],
      "execution_count": 15,
      "outputs": []
    },
    {
      "cell_type": "code",
      "metadata": {
        "id": "I5PljiT7w3BQ"
      },
      "source": [
        "m = len(training_data[0][0]) \n",
        "w = np.zeros(m)\n",
        "b = 0\n",
        "w, b, couts1 = optimize_gd(w,b,training_data,maxiter = 200)"
      ],
      "execution_count": 16,
      "outputs": []
    },
    {
      "cell_type": "code",
      "metadata": {
        "id": "CksRYRFJyxI1"
      },
      "source": [
        "def test_params(w,b,test_data):\n",
        "    k = len(test_data)\n",
        "    S = 0\n",
        "    for x, y in test_data:\n",
        "        yt = np.dot(w, x) + b\n",
        "        if np.abs(yt-y)<0.5:\n",
        "            S += 1\n",
        "    return S/k\n",
        "  "
      ],
      "execution_count": 17,
      "outputs": []
    },
    {
      "cell_type": "code",
      "metadata": {
        "colab": {
          "base_uri": "https://localhost:8080/"
        },
        "id": "5QHkmHCg7N4Z",
        "outputId": "0e0da865-54c8-4120-a5d8-1a28e8cf18ee"
      },
      "source": [
        "test_params(w, b, test_data)"
      ],
      "execution_count": 18,
      "outputs": [
        {
          "output_type": "execute_result",
          "data": {
            "text/plain": [
              "0.3011"
            ]
          },
          "metadata": {
            "tags": []
          },
          "execution_count": 18
        }
      ]
    },
    {
      "cell_type": "markdown",
      "metadata": {
        "id": "STqyygKg8x3u"
      },
      "source": [
        "**Descente de gradient stochastique**"
      ]
    },
    {
      "cell_type": "code",
      "metadata": {
        "id": "DXwrV_6Q83H5"
      },
      "source": [
        "def optimize_sgd(w,b,training_data,rate=5e-4,maxiter=40,info=1):\n",
        "    k = 0\n",
        "    n = len(training_data)\n",
        "    couts = []\n",
        "    cout = 100\n",
        "    while k<maxiter and cout>rate:\n",
        "        randList = list(range(n))\n",
        "        np.random.shuffle(randList)\n",
        "        cout_epoch = 0\n",
        "        for j in randList:\n",
        "            cout,gradw,gradb = propagate(w, b, [training_data[j]])\n",
        "            w = w - gradw*rate\n",
        "            b = b - gradb*rate\n",
        "            cout_epoch += cout\n",
        "        cout = cout_epoch/n\n",
        "        couts.append(cout)\n",
        "        k += 1\n",
        "    return w,b,couts"
      ],
      "execution_count": 19,
      "outputs": []
    },
    {
      "cell_type": "code",
      "metadata": {
        "id": "Pee0191nZod3"
      },
      "source": [
        "m = len(training_data[0][0]) \n",
        "w = np.zeros(m)\n",
        "b = 0\n",
        "w,b,couts2 = optimize_sgd(w,b,training_data, maxiter = 200)"
      ],
      "execution_count": 20,
      "outputs": []
    },
    {
      "cell_type": "code",
      "metadata": {
        "id": "3kasnt1G-jQX"
      },
      "source": [
        "def test_params2(w,b,test_data):\n",
        "    k = len(test_data)\n",
        "    S = 0\n",
        "    for i in range(k):\n",
        "        xi = test_data[i][0]\n",
        "        yi = test_data[i][1]\n",
        "        yt = np.dot(w, xi) + b\n",
        "        if np.abs(yt-yi)<0.5:\n",
        "            S += 1\n",
        "    return S/k\n"
      ],
      "execution_count": 21,
      "outputs": []
    },
    {
      "cell_type": "code",
      "metadata": {
        "colab": {
          "base_uri": "https://localhost:8080/"
        },
        "id": "6n_GmU8t_Tw0",
        "outputId": "3ed377b1-98ce-48d7-8ff8-e3a4cb255cc1"
      },
      "source": [
        "test_params2(w,b,test_data)"
      ],
      "execution_count": 22,
      "outputs": [
        {
          "output_type": "execute_result",
          "data": {
            "text/plain": [
              "0.2872"
            ]
          },
          "metadata": {
            "tags": []
          },
          "execution_count": 22
        }
      ]
    },
    {
      "cell_type": "markdown",
      "metadata": {
        "id": "EOd09qK8BGrE"
      },
      "source": [
        "**Mini-batch**"
      ]
    },
    {
      "cell_type": "code",
      "metadata": {
        "id": "MAH3HGuC_bpI"
      },
      "source": [
        "def optimize_sgdm(w,b,training_data,batch_size=100,rate=5e-4,maxiter=40,info=1):\n",
        "    k = 0\n",
        "    couts = []\n",
        "    cout = 100\n",
        "    n = len(training_data)\n",
        "    while k<maxiter and cout>rate:\n",
        "        np.random.shuffle(training_data)\n",
        "        cout_epoch = []\n",
        "        for j in range(0,n,batch_size):\n",
        "            training_batch = training_data[j:j+batch_size]\n",
        "            cout, gradw, gradb = propagate(w, b, training_batch)\n",
        "            w = w - gradw*rate\n",
        "            b = b - gradb*rate\n",
        "            cout_epoch.append(cout)\n",
        "        k += 1\n",
        "        couts.append(np.mean(cout_epoch))\n",
        "    return w, b, couts\n"
      ],
      "execution_count": 23,
      "outputs": []
    },
    {
      "cell_type": "code",
      "metadata": {
        "id": "GDIYuo80Zf1c"
      },
      "source": [
        "m = len(training_data[0][0]) \n",
        "w = np.zeros(m)\n",
        "b = 0\n",
        "w,b,couts3 = optimize_sgdm(w,b,training_data,maxiter=200)"
      ],
      "execution_count": 24,
      "outputs": []
    },
    {
      "cell_type": "code",
      "metadata": {
        "colab": {
          "base_uri": "https://localhost:8080/"
        },
        "id": "P-VTmHanC_0L",
        "outputId": "649ed1f7-90d6-45b7-9624-760e3595c7b2"
      },
      "source": [
        "def test_params3(w,b,test_data):\n",
        "    k = len(test_data)\n",
        "    S = 0\n",
        "    for i in range(k):\n",
        "        xi = test_data[i][0]\n",
        "        yi = test_data[i][1]\n",
        "        yt = np.dot(w, xi) + b\n",
        "        if np.abs(yt-yi)<0.5:\n",
        "            S += 1\n",
        "    return S/k\n",
        "test_params3(w,b,test_data)"
      ],
      "execution_count": 25,
      "outputs": [
        {
          "output_type": "execute_result",
          "data": {
            "text/plain": [
              "0.3266"
            ]
          },
          "metadata": {
            "tags": []
          },
          "execution_count": 25
        }
      ]
    },
    {
      "cell_type": "markdown",
      "metadata": {
        "id": "dh5l6FwVyr_g"
      },
      "source": [
        "**Comparaison des vitesses de convergences**"
      ]
    },
    {
      "cell_type": "code",
      "metadata": {
        "colab": {
          "base_uri": "https://localhost:8080/",
          "height": 269
        },
        "id": "YTQujCNZ0tvZ",
        "outputId": "1cdbdfd7-25b9-4edd-fdba-5ac3dba2dbd0"
      },
      "source": [
        "def graph(**kwargs):\n",
        "    colors = \"bgrcmykw:\"\n",
        "    fig, ax = plt.subplots()\n",
        "\n",
        "    for name,color in zip(kwargs,colors):\n",
        "        ax.semilogx(kwargs[name],color,label=name)\n",
        "    ax.legend()\n",
        "    plt.show()\n",
        "\n",
        "# exemple d'utilisation\n",
        "graph(sgdm= couts3[:50], sgd = couts2[:50], sg = couts1[:50])\n",
        "# le label de [1,2,3] est \"toto1\""
      ],
      "execution_count": 26,
      "outputs": [
        {
          "output_type": "display_data",
          "data": {
            "image/png": "[encoded data removed]",
            "text/plain": [
              "<Figure size 432x288 with 1 Axes>"
            ]
          },
          "metadata": {
            "tags": [],
            "needs_background": "light"
          }
        }
      ]
    },
    {
      "cell_type": "markdown",
      "metadata": {
        "id": "xq9I_fOtUHrX"
      },
      "source": [
        "**Méthode des moments**"
      ]
    },
    {
      "cell_type": "code",
      "metadata": {
        "id": "PJsT6J0eCbFO"
      },
      "source": [
        "def optimize_sgd_moment(w,b,training_data,rate=1e-3,batch_size=100, mu=0.90,maxiter=40,info=1):\n",
        "    k = 0\n",
        "    n = len(training_data)\n",
        "    m = len(training_data[0][0])\n",
        "    couts = []\n",
        "    cout = 100\n",
        "    v = np.zeros(m)\n",
        "    while k<maxiter and cout>rate:\n",
        "        np.random.shuffle(training_data)\n",
        "        cout_epoch = []\n",
        "        for j in range(0,n,batch_size):\n",
        "            training_batch = training_data[j:j+batch_size]\n",
        "            cout, gradw, gradb = propagate(w, b, training_batch)\n",
        "            cout_epoch.append(cout)\n",
        "            v = mu*v - rate*gradw\n",
        "            w = np.add(w, v)\n",
        "            b = b - gradb*rate\n",
        "        couts.append(np.mean(cout_epoch))\n",
        "        k += 1\n",
        "    return w,b,couts"
      ],
      "execution_count": 27,
      "outputs": []
    },
    {
      "cell_type": "code",
      "metadata": {
        "id": "bz5yUwjdFK8x"
      },
      "source": [
        "m = len(training_data[0][0]) \n",
        "w = np.zeros(m)\n",
        "b = 0\n",
        "w,b,couts_moment = optimize_sgd_moment(w,b,training_data, mu = .8, maxiter = 200)"
      ],
      "execution_count": 28,
      "outputs": []
    },
    {
      "cell_type": "code",
      "metadata": {
        "colab": {
          "base_uri": "https://localhost:8080/"
        },
        "id": "GXS0IJFNFVIl",
        "outputId": "48295b0d-ddb7-4918-e654-7de333c55ddb"
      },
      "source": [
        "def test_params3(w,b,test_data):\n",
        "    k = len(test_data)\n",
        "    S = 0\n",
        "    for i in range(k):\n",
        "        xi = test_data[i][0]\n",
        "        yi = test_data[i][1]\n",
        "        yt = np.dot(w, xi) + b\n",
        "        if np.abs(yt-yi)<0.5:\n",
        "            S += 1\n",
        "    return S/k\n",
        "test_params3(w,b,training_data)"
      ],
      "execution_count": 29,
      "outputs": [
        {
          "output_type": "execute_result",
          "data": {
            "text/plain": [
              "0.3544"
            ]
          },
          "metadata": {
            "tags": []
          },
          "execution_count": 29
        }
      ]
    },
    {
      "cell_type": "markdown",
      "metadata": {
        "id": "XohdvxRW44U3"
      },
      "source": [
        "**La Méthode du moment de Nesterov**"
      ]
    },
    {
      "cell_type": "code",
      "metadata": {
        "id": "u8BGvwpF5ATl"
      },
      "source": [
        "def optimize_sgd_nesterov(w,b,training_data,rate=1e-5,batch_size =100, mu=0.95,maxiter=40,info=1):\n",
        "    k = 0\n",
        "    n = len(training_data)\n",
        "    m = len(training_data[0][0])\n",
        "    couts = []\n",
        "    cout = 100\n",
        "    v = np.zeros(m)\n",
        "    while k<maxiter and cout>rate:\n",
        "        np.random.shuffle(training_data)\n",
        "        cout_epoch = []\n",
        "        for j in range(0,n,batch_size):\n",
        "            w = np.add(w,mu*v)\n",
        "            training_batch = training_data[j:j+batch_size]\n",
        "            cout, gradw, gradb = propagate(w, b, training_batch)\n",
        "            cout_epoch.append(cout)\n",
        "            v = np.add(mu*v, -rate*gradw)\n",
        "            w = np.add(w, v)\n",
        "            b = b - gradb*rate\n",
        "        couts.append(np.mean(cout_epoch))\n",
        "        k += 1\n",
        "    return w,b,couts\n"
      ],
      "execution_count": 30,
      "outputs": []
    },
    {
      "cell_type": "code",
      "metadata": {
        "id": "u9vpbYCU55Pt"
      },
      "source": [
        "m = len(training_data[0][0]) \n",
        "w = np.zeros(m)\n",
        "b = 0\n",
        "w,b,couts_nesterovsgd = optimize_sgd_nesterov(w,b,training_data, mu = .9, maxiter = 200)"
      ],
      "execution_count": 31,
      "outputs": []
    },
    {
      "cell_type": "code",
      "metadata": {
        "colab": {
          "base_uri": "https://localhost:8080/"
        },
        "id": "dZpp7oEE6DTu",
        "outputId": "415242ca-f182-4700-830e-78611c7c10b6"
      },
      "source": [
        "def test_params3(w,b,test_data):\n",
        "    k = len(test_data)\n",
        "    S = 0\n",
        "    for i in range(k):\n",
        "        xi = test_data[i][0]\n",
        "        yi = test_data[i][1]\n",
        "        yt = np.dot(w, xi) + b\n",
        "        if np.abs(yt-yi)<0.5:\n",
        "            S += 1\n",
        "    return S/k\n",
        "test_params3(w,b,training_data)"
      ],
      "execution_count": 32,
      "outputs": [
        {
          "output_type": "execute_result",
          "data": {
            "text/plain": [
              "0.3263"
            ]
          },
          "metadata": {
            "tags": []
          },
          "execution_count": 32
        }
      ]
    },
    {
      "cell_type": "code",
      "metadata": {
        "id": "cgb6ZLN56LTW"
      },
      "source": [
        "def optimize_sg_nesterov(w,b,training_data,rate=1e-5,mu=0.95,maxiter=500,info=10):\n",
        "    i = 0\n",
        "    cout = 100\n",
        "    couts = []\n",
        "    v = np.zeros(m)\n",
        "    while i<maxiter and cout>rate:\n",
        "        w = np.add(w, mu*v)\n",
        "        cout,gradw,gradb = propagate(w,b,training_data)\n",
        "        if i%info ==0:\n",
        "            print(cout)\n",
        "        couts.append(cout)\n",
        "        v = np.add(mu*v, -rate*gradw)\n",
        "        w = np.add(w, v)\n",
        "        b = b - gradb*rate\n",
        "        i += 1\n",
        "    return w,b,couts"
      ],
      "execution_count": 33,
      "outputs": []
    },
    {
      "cell_type": "code",
      "metadata": {
        "id": "XHw2cT0_7DHI"
      },
      "source": [
        "m = len(training_data[0][0]) \n",
        "w = np.zeros(m)\n",
        "b = 0\n",
        "w,b,couts_nesterovsg = optimize_sgd_nesterov(w,b,training_data, mu = .9, maxiter = 200)"
      ],
      "execution_count": 34,
      "outputs": []
    },
    {
      "cell_type": "code",
      "metadata": {
        "colab": {
          "base_uri": "https://localhost:8080/"
        },
        "id": "knHeKKWd7ECc",
        "outputId": "aca7a32a-35a2-4328-a332-15b9be27b26b"
      },
      "source": [
        "def test_params3(w,b,test_data):\n",
        "    k = len(test_data)\n",
        "    S = 0\n",
        "    for i in range(k):\n",
        "        xi = test_data[i][0]\n",
        "        yi = test_data[i][1]\n",
        "        yt = np.dot(w, xi) + b\n",
        "        if np.abs(yt-yi)<0.5:\n",
        "            S += 1\n",
        "    return S/k\n",
        "test_params3(w,b,training_data)"
      ],
      "execution_count": 35,
      "outputs": [
        {
          "output_type": "execute_result",
          "data": {
            "text/plain": [
              "0.3261"
            ]
          },
          "metadata": {
            "tags": []
          },
          "execution_count": 35
        }
      ]
    },
    {
      "cell_type": "markdown",
      "metadata": {
        "id": "dw-cwWJK8XFp"
      },
      "source": [
        "**Méthode d'Adam**"
      ]
    },
    {
      "cell_type": "code",
      "metadata": {
        "id": "o18zVOCM8aQP"
      },
      "source": [
        "def optimize_sgd_adam(w,b,training_data,rate=1e-3,beta1=0.9,beta2=0.999,batch_size=100,epsilon=1e-8,maxiter=10,info=1):\n",
        "    k = 0\n",
        "    n = len(training_data)\n",
        "    m = len(training_data[0][0])\n",
        "    couts = []\n",
        "    cout = 100\n",
        "    v = np.zeros(m)\n",
        "    m = np.zeros(m)\n",
        "    while k<maxiter and cout>rate:\n",
        "        np.random.shuffle(training_data)\n",
        "        cout_epoch = []\n",
        "        k += 1\n",
        "        for j in range(0,n,batch_size):\n",
        "            training_batch = training_data[j:j+batch_size]\n",
        "            cout, gradw, gradb = propagate(w, b, training_batch)\n",
        "            cout_epoch.append(cout)\n",
        "            m = beta1*m + (1-beta1)*gradw\n",
        "            v = beta2*v + (1-beta2)*(gradw**2)\n",
        "            h = v/(1-beta2**k)\n",
        "            w = np.add(w, - rate*m/(np.sqrt(h)+epsilon)/(1-beta1**k))\n",
        "            b = b - gradb*rate\n",
        "        couts.append(np.mean(cout_epoch))\n",
        "    \n",
        "    return w,b,couts"
      ],
      "execution_count": 36,
      "outputs": []
    },
    {
      "cell_type": "code",
      "metadata": {
        "id": "nroJtAmu8a4b"
      },
      "source": [
        "m = len(training_data[0][0]) \n",
        "w = np.zeros(m)\n",
        "b = 0\n",
        "w,b,couts_adam = optimize_sgd_adam(w,b,training_data, maxiter = 200)"
      ],
      "execution_count": 37,
      "outputs": []
    },
    {
      "cell_type": "code",
      "metadata": {
        "colab": {
          "base_uri": "https://localhost:8080/"
        },
        "id": "_EF88KW8Sw6Z",
        "outputId": "bb7e8657-08e3-4997-c296-1f3cfee23ba0"
      },
      "source": [
        " def test_params3(w,b,test_data):\n",
        "    k = len(test_data)\n",
        "    S = 0\n",
        "    for i in range(k):\n",
        "        xi = test_data[i][0]\n",
        "        yi = test_data[i][1]\n",
        "        yt = np.dot(w, xi) + b\n",
        "        if np.abs(yt-yi)<0.5:\n",
        "            S += 1\n",
        "    return S/k\n",
        "test_params3(w,b,training_data)"
      ],
      "execution_count": 38,
      "outputs": [
        {
          "output_type": "execute_result",
          "data": {
            "text/plain": [
              "0.3271"
            ]
          },
          "metadata": {
            "tags": []
          },
          "execution_count": 38
        }
      ]
    },
    {
      "cell_type": "code",
      "metadata": {
        "colab": {
          "base_uri": "https://localhost:8080/",
          "height": 269
        },
        "id": "IP50SKvRzMC1",
        "outputId": "c6c6c26f-6734-4730-a5e5-5ffd93bf4f20"
      },
      "source": [
        "def graph(**kwargs):\n",
        "    colors = \"bgrcmykw:\"\n",
        "    fig, ax = plt.subplots()\n",
        "\n",
        "    for name,color in zip(kwargs,colors):\n",
        "        ax.semilogx(kwargs[name],color,label=name)\n",
        "    ax.legend()\n",
        "    plt.show()\n",
        "\n",
        "# exemple d'utilisation\n",
        "graph( sgdm = couts3, nesterov_sgd = couts_nesterovsgd, adam = couts_adam, moments = couts_moment) \n",
        "# le label de [1,2,3] est \"toto1\""
      ],
      "execution_count": 39,
      "outputs": [
        {
          "output_type": "display_data",
          "data": {
            "image/png": "[encoded data removed]",
            "text/plain": [
              "<Figure size 432x288 with 1 Axes>"
            ]
          },
          "metadata": {
            "tags": [],
            "needs_background": "light"
          }
        }
      ]
    },
    {
      "cell_type": "markdown",
      "metadata": {
        "id": "8Ec0yUDPzMC1"
      },
      "source": [
        "On remarque la rapide convergence des méthodes de Nesterov et Adam comparées à la descente de gradient stochastique, quelques epochs suffisent pour avoir des résultats satisfaisantes. Les résultats de la comparaison suivante montrent que c'est pas une bonne idée de prendre des batch aléatoires à chaque itération (la performance est médiocre et la convergence est lente). Il est donc préférable d'itérer sur tout le jeux de données."
      ]
    },
    {
      "cell_type": "code",
      "metadata": {
        "id": "s2d_QDO6zMC1"
      },
      "source": [
        "def optimize_sgd_adam2(w,b,training_data,rate=1e-3,beta1=0.9,beta2=0.999,batch_size=100,epsilon=1e-8,maxiter=200,info=1):\n",
        "    k = 0\n",
        "    n = len(training_data)\n",
        "    m = len(training_data[0][0])\n",
        "    couts = []\n",
        "    cout = 100\n",
        "    v = np.zeros(m)\n",
        "    m = np.zeros(m)\n",
        "    while k<maxiter and cout>rate:\n",
        "        np.random.shuffle(training_data)\n",
        "        k += 1\n",
        "        j = batch_size\n",
        "        training_batch = training_data[j:j+batch_size]\n",
        "        cout, gradw, gradb = propagate(w, b, training_batch)\n",
        "        m = beta1*m + (1-beta1)*gradw\n",
        "        v = beta2*v + (1-beta2)*(gradw**2)\n",
        "        h = v/(1-beta2**k)\n",
        "        w = np.add(w, - rate*m/(np.sqrt(h)+epsilon)/(1-beta1**k))\n",
        "        b = b - gradb*rate\n",
        "        couts.append(cout)\n",
        "    return w,b,couts"
      ],
      "execution_count": 43,
      "outputs": []
    },
    {
      "cell_type": "code",
      "metadata": {
        "id": "8wBaGPq83SMc"
      },
      "source": [
        "m = len(training_data[0][0]) \n",
        "w = np.zeros(m)\n",
        "b = 0\n",
        "w,b,couts_adam2 = optimize_sgd_adam2(w,b,training_data, maxiter = 200)"
      ],
      "execution_count": 44,
      "outputs": []
    },
    {
      "cell_type": "code",
      "metadata": {
        "colab": {
          "base_uri": "https://localhost:8080/"
        },
        "id": "JFCqVLfE3aVe",
        "outputId": "9f055395-9e0a-46be-c24e-2d1612034755"
      },
      "source": [
        "def test_params3(w,b,test_data):\n",
        "    k = len(test_data)\n",
        "    S = 0\n",
        "    for i in range(k):\n",
        "        xi = test_data[i][0]\n",
        "        yi = test_data[i][1]\n",
        "        yt = np.dot(w, xi) + b\n",
        "        if np.abs(yt-yi)<0.5:\n",
        "            S += 1\n",
        "    return S/k\n",
        "test_params3(w,b,training_data)"
      ],
      "execution_count": 45,
      "outputs": [
        {
          "output_type": "execute_result",
          "data": {
            "text/plain": [
              "0.2693"
            ]
          },
          "metadata": {
            "tags": []
          },
          "execution_count": 45
        }
      ]
    },
    {
      "cell_type": "code",
      "metadata": {
        "colab": {
          "base_uri": "https://localhost:8080/",
          "height": 269
        },
        "id": "dphqNNqj3ok-",
        "outputId": "983c3403-77c3-455f-e4b6-93abda4390e8"
      },
      "source": [
        "def graph(**kwargs):\n",
        "    colors = \"bgrcmykw:\"\n",
        "    fig, ax = plt.subplots()\n",
        "\n",
        "    for name,color in zip(kwargs,colors):\n",
        "        ax.semilogx(kwargs[name],color,label=name)\n",
        "    ax.legend()\n",
        "    plt.show()\n",
        "\n",
        "# exemple d'utilisation\n",
        "graph( adam = couts_adam, adam_randombatch= couts_adam2 ) "
      ],
      "execution_count": 46,
      "outputs": [
        {
          "output_type": "display_data",
          "data": {
            "image/png": "[encoded data removed]",
            "text/plain": [
              "<Figure size 432x288 with 1 Axes>"
            ]
          },
          "metadata": {
            "tags": [],
            "needs_background": "light"
          }
        }
      ]
    }
  ]
}